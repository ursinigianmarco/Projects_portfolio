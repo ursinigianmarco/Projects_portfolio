{
  "cells": [
    {
      "cell_type": "code",
      "execution_count": null,
      "metadata": {
        "id": "QZAHGPcGWTlC"
      },
      "outputs": [],
      "source": [
        "import numpy as np      \n",
        "import matplotlib.pyplot as plt \n",
        "import scipy.io.wavfile \n",
        "import subprocess\n",
        "import librosa\n",
        "import librosa.display\n",
        "import IPython.display as ipd\n",
        "import pandas as pd\n",
        "import sympy\n",
        "\n",
        "from pathlib import Path, PurePath   \n",
        "from tqdm.notebook import tqdm\n",
        "\n",
        "import random\n",
        "from random import randint\n",
        "import time"
      ]
    },
    {
      "cell_type": "markdown",
      "metadata": {
        "id": "K9ubiv2Go6hh"
      },
      "source": [
        "# Implementing your own Shazam"
      ]
    },
    {
      "cell_type": "markdown",
      "metadata": {
        "id": "uXFA7GjNpEZQ"
      },
      "source": [
        "## **Getting your data!**"
      ]
    },
    {
      "cell_type": "markdown",
      "metadata": {
        "id": "HPG-IZteWUV2"
      },
      "source": [
        "### Utility functions"
      ]
    },
    {
      "cell_type": "code",
      "execution_count": null,
      "metadata": {
        "id": "6-fAqsgqWRdV"
      },
      "outputs": [],
      "source": [
        "def convert_mp3_to_wav(audio:str) -> str:  \n",
        "    \"\"\"Convert an input MP3 audio track into a WAV file.\n",
        "\n",
        "    Args:\n",
        "        audio (str): An input audio track.\n",
        "\n",
        "    Returns:\n",
        "        [str]: WAV filename.\n",
        "    \"\"\"\n",
        "    if audio[-3:] == \"mp3\":\n",
        "        wav_audio = audio[:-3] + \"wav\"\n",
        "        if not Path(wav_audio).exists():\n",
        "                subprocess.check_output(f\"ffmpeg -i {audio} {wav_audio}\", shell=True)\n",
        "        return wav_audio\n",
        "    \n",
        "    return audio\n",
        "\n",
        "def plot_spectrogram_and_picks(track:np.ndarray, sr:int, peaks:np.ndarray, onset_env:np.ndarray) -> None:\n",
        "    \"\"\"[summary]\n",
        "\n",
        "    Args:\n",
        "        track (np.ndarray): A track.\n",
        "        sr (int): Aampling rate.\n",
        "        peaks (np.ndarray): Indices of peaks in the track.\n",
        "        onset_env (np.ndarray): Vector containing the onset strength envelope.\n",
        "    \"\"\"\n",
        "    times = librosa.frames_to_time(np.arange(len(onset_env)),\n",
        "                            sr=sr, hop_length=HOP_SIZE)\n",
        "\n",
        "    plt.figure()\n",
        "    ax = plt.subplot(2, 1, 2)\n",
        "    D = librosa.stft(track)\n",
        "    librosa.display.specshow(librosa.amplitude_to_db(np.abs(D), ref=np.max),\n",
        "                            y_axis='log', x_axis='time')\n",
        "    plt.subplot(2, 1, 1, sharex=ax)\n",
        "    plt.plot(times, onset_env, alpha=0.8, label='Onset strength')\n",
        "    plt.vlines(times[peaks], 0,\n",
        "            onset_env.max(), color='r', alpha=0.8,\n",
        "            label='Selected peaks')\n",
        "    plt.legend(frameon=True, framealpha=0.8)\n",
        "    plt.axis('tight')\n",
        "    plt.tight_layout()\n",
        "    plt.show()\n",
        "\n",
        "def load_audio_picks(audio, duration, hop_size):\n",
        "    \"\"\"[summary]\n",
        "\n",
        "    Args:\n",
        "        audio (string, int, pathlib.Path or file-like object): [description]\n",
        "        duration (int): [description]\n",
        "        hop_size (int): \n",
        "\n",
        "    Returns:\n",
        "        tuple: Returns the audio time series (track) and sampling rate (sr), a vector containing the onset strength envelope\n",
        "        (onset_env), and the indices of peaks in track (peaks).\n",
        "    \"\"\"\n",
        "    try:\n",
        "        track, sr = librosa.load(audio, duration=duration)\n",
        "        onset_env = librosa.onset.onset_strength(track, sr=sr, hop_length=hop_size)\n",
        "        peaks = librosa.util.peak_pick(onset_env, 10, 10, 10, 10, 0.5, 0.5)\n",
        "    except Error as e:\n",
        "        print('An error occurred processing ', str(audio))\n",
        "        print(e)\n",
        "\n",
        "    return track, sr, onset_env, peaks\n",
        " "
      ]
    },
    {
      "cell_type": "markdown",
      "metadata": {
        "id": "JQBdDZoaWaNp"
      },
      "source": [
        "### Settings"
      ]
    },
    {
      "cell_type": "code",
      "execution_count": null,
      "metadata": {
        "id": "TpoB_azZWZLA"
      },
      "outputs": [],
      "source": [
        "N_TRACKS = 1413\n",
        "HOP_SIZE = 512\n",
        "DURATION = 60 \n",
        "\n",
        "\n",
        "data_folder = Path(\"data/mp3s-32k/\")\n",
        "mp3_tracks = data_folder.glob(\"*/*/*.mp3\")\n",
        "tracks = data_folder.glob(\"*/*/*.wav\")\n"
      ]
    },
    {
      "cell_type": "markdown",
      "metadata": {
        "id": "q91z-k3WWdW5"
      },
      "source": [
        "### Preprocessing"
      ]
    },
    {
      "cell_type": "code",
      "execution_count": null,
      "metadata": {
        "colab": {
          "base_uri": "https://localhost:8080/",
          "height": 49,
          "referenced_widgets": [
            "4c8af36ed4fa4a30ad8ff5110d0871f9",
            "1e55bc687b724401b34695fb1dcc10dd",
            "12d57ab173af439ea5bbc223577d317c",
            "9ac682b76bd24d2496fd459de150877b",
            "e661ecef969343d689c5e328aa0061eb",
            "a1f10e6e9c1d423b9718fd9f28816f98",
            "ee743d1845114c5abf578a1f71443157",
            "40171f1e7daa40fe8f34aac5851f0641",
            "749d699f4c424946bf33e10c72bee86e",
            "7a037f34a0624f0685ded24950826e51",
            "db2be28329a844ec8f68131d8d748617"
          ]
        },
        "id": "fmvRpVwTWfnd",
        "outputId": "a7a954d7-9de8-4a6e-9610-a4cece62549c"
      },
      "outputs": [
        {
          "data": {
            "application/vnd.jupyter.widget-view+json": {
              "model_id": "4c8af36ed4fa4a30ad8ff5110d0871f9",
              "version_major": 2,
              "version_minor": 0
            },
            "text/plain": [
              "  0%|          | 0/1413 [00:00<?, ?it/s]"
            ]
          },
          "metadata": {},
          "output_type": "display_data"
        }
      ],
      "source": [
        "for track in tqdm(mp3_tracks, total=N_TRACKS):\n",
        "    convert_mp3_to_wav(str(track))"
      ]
    },
    {
      "cell_type": "markdown",
      "metadata": {
        "id": "uwCOTey8pSy3"
      },
      "source": [
        "## **Fingerprint hashing**"
      ]
    },
    {
      "cell_type": "markdown",
      "metadata": {
        "id": "DC6m0VpFxk43"
      },
      "source": [
        "### Read and preprocess titles\n"
      ]
    },
    {
      "cell_type": "code",
      "execution_count": null,
      "metadata": {
        "id": "WvdMn7ObrpWk"
      },
      "outputs": [],
      "source": [
        "titles=[]\n",
        "\n",
        "# Title file of the song is opened and titles with capital letters \n",
        "# without backslashes are stored into preprocessed_titles list.\n",
        "\n",
        "with open('data/mp3s-32k/all.list') as f:\n",
        "    titles = f.readlines()\n",
        "#Remove backslash, 1n, underscores from titles\n",
        "preprocessed_titles = [str(x).replace('\\n', '').replace('/', '-').replace('_', ' ').title() for x in titles]"
      ]
    },
    {
      "cell_type": "markdown",
      "metadata": {
        "id": "6UMdZwC7xowO"
      },
      "source": [
        "### Read data and store peaks"
      ]
    },
    {
      "cell_type": "code",
      "execution_count": null,
      "metadata": {
        "colab": {
          "base_uri": "https://localhost:8080/",
          "height": 49,
          "referenced_widgets": [
            "c32f36c413a24cdca75074d7c8723bee",
            "555d9568134b4b428c1cdd9882baa5c4",
            "6b72d1d7332447c39ac4c19757f5f5e1",
            "b0fa535df637490ba67184c2ec7a59c9",
            "756c19045fef499e818148f8b54d65f4",
            "6d8aa23c02cb4a758802001215afb8fa",
            "8921ee77f316409da9ca2f1af509f617",
            "729598140d5c4240b3f13755f597b9d2",
            "a7ec8d5386c442d7b05a63416aaf25d4",
            "10d0edbe6fa54f98a6702fc626313fe1",
            "413b0747ce7f4c508a17eeddf4ce919b"
          ]
        },
        "id": "4yotqm0Cpewx",
        "outputId": "c08c0fba-58b0-4efc-e376-328e9462d6d8"
      },
      "outputs": [
        {
          "data": {
            "application/vnd.jupyter.widget-view+json": {
              "model_id": "c32f36c413a24cdca75074d7c8723bee",
              "version_major": 2,
              "version_minor": 0
            },
            "text/plain": [
              "0it [00:00, ?it/s]"
            ]
          },
          "metadata": {},
          "output_type": "display_data"
        }
      ],
      "source": [
        "#Initialize list to store the peaks of all the songs\n",
        "all_peaks=[]\n",
        "# For each of the audio tracks, the peaks is extracted trough load_audio_picks()\n",
        "# and stored into all_peaks list\n",
        "for ind,audio in tqdm(enumerate(tracks)):\n",
        "    track, sr, onset_env, peaks = load_audio_picks(audio, DURATION, HOP_SIZE)\n",
        "    all_peaks.append(peaks)"
      ]
    },
    {
      "cell_type": "markdown",
      "metadata": {
        "id": "4QKwfPVCxtKf"
      },
      "source": [
        "###**Sparse the peaks for each song**\n",
        "Each of element of $\\texttt{preprocessed_peaks}$ (i.e. the peak list of each song) is a dense vector, containing only the times at which a peak has been detected. We found out that the maximum value attained at the end of all the dense peak vector (i.e. the greatest time listened with a peak) is proportional to $\\texttt{DURATION*44}$. Our aim is now to trasform those vector into 1-hot sparse vector: each of them will have a length proportional to the total duration of the song ($\\texttt{DURATION*44}$), having at each time a 1 if a peak has been detected at that time, or a 0 if not. Since this representation result in a very sparse vector, this 0-1 condition can be relaxed binning adjacent times. We define a compression parameter $r$, equal to the number of adjacent times that we will bin together, keeping the 0-1 condition untouched. Turns out that $r=8$ is a good trade off between power of representation and sparsity reduction of the sparse vector. \n",
        "\n",
        "####E.G. \n",
        "$r=3$:\n",
        "$$\n",
        "\\text{Uncompressed sparse vector}\\hspace{1cm}\\rightarrow\\hspace{1cm}[\\underline{0,0,0},\\underline{0,1,0},\\underline{1,1,1}]\n",
        "$$\n",
        "$$\n",
        "\\hspace{1cm}\\Downarrow\n",
        "$$\n",
        "$$\n",
        "\\text{Compressed sparse vector}\\hspace{1cm}\\rightarrow\\hspace{1cm}[0,1,1]\n",
        "$$"
      ]
    },
    {
      "cell_type": "code",
      "execution_count": null,
      "metadata": {
        "id": "4byqoLQ9b29L"
      },
      "outputs": [],
      "source": [
        "def peaks_onehot_trasform(all_peaks,DURATION,compression_rate):\n",
        "  onehot_peaks=[]\n",
        "  #Define original and compressed version lengths\n",
        "  original_len=DURATION*44\n",
        "  compressed_len=original_len//compression_rate+compression_rate\n",
        "\n",
        "  #For all the songs extract its peak dense vector\n",
        "  for song_peak in all_peaks:\n",
        "    #Initialize a 1 hot vector proportional to the duration of the song\n",
        "    onehot=np.zeros(compressed_len)\n",
        "    #Read the element (i.e. the peak_position) of the dense vector\n",
        "    #And initialize the element of the 1hot vector at index=peak_position to 1\n",
        "    for peak_position in song_peak:\n",
        "      onehot[peak_position//compression_rate]=1\n",
        "    \n",
        "    onehot_peaks.append(onehot)\n",
        "    \n",
        "  return(onehot_peaks)"
      ]
    },
    {
      "cell_type": "code",
      "execution_count": null,
      "metadata": {
        "id": "UD4XgmI4ov6_"
      },
      "outputs": [],
      "source": [
        "#Convert all song peaks into 1hot vectors\n",
        "comp_rate=8\n",
        "onehot_peaks=peaks_onehot_trasform(all_peaks,DURATION,compression_rate=comp_rate)"
      ]
    },
    {
      "cell_type": "markdown",
      "metadata": {
        "id": "8QzO-3bzPo3K"
      },
      "source": [
        "### **Song signature**\n",
        "Now that a 1hot sparse vector for each song has been obtained, it will be used to produce a signature as follows: \n",
        "\n",
        "Repeat for $n=n_{permutation}$ times:\n",
        "\n",
        "*   Perform a random shuffling over the elements of the 1hot vector;\n",
        "*   Store the index of the first \"1\" element into the signature for the song;\n",
        "\n",
        "The idea is that after several random permutation, comparing two signature vector (i.e. computing the percentage of equal elements between the vectors) will provide us of an estimator (that we will call $h(V_1,V_2)$) of the Jaccard Similarity between the two vectors. In particular, it can be proven that the $\\mathbb{VAR}[h(V_1,V_2)]$ w.r.t. the $\\text{J.S.}(V_1,V_2)$ shrink like $\\frac{1}{4\\cdot n}$. Using $n=200$ is finally a good tradeoff between consistency of the estimator and efficiency of the code.\n"
      ]
    },
    {
      "cell_type": "code",
      "execution_count": null,
      "metadata": {
        "id": "yL64rIDrL0nK"
      },
      "outputs": [],
      "source": [
        "def signature(onehot_peaks,n_permutation):\n",
        "  #Initialize list to store all the signature vectors for each song\n",
        "  signature_mtrx=[]\n",
        "\n",
        "  #For each of the onehot vectors, extract its signature and store it in the signature_matrix:\n",
        "  for onehot_song in tqdm(onehot_peaks):\n",
        "    \n",
        "    #In order to perform the same shuffling to all the 1hot peak vectors\n",
        "    #A random seed is initialized\n",
        "    random.seed(4)\n",
        "    signature_song=[]\n",
        "\n",
        "    #Apply n_permutation to the 1hot vector, storing at each permutation\n",
        "    #the index of the 1st \"1\" element into the signature\n",
        "    for i in range(n_permutation):\n",
        "      random.shuffle(onehot_song)\n",
        "      signature_song.append(np.argmax(onehot_song>0))\n",
        "    \n",
        "    signature_song=np.array(signature_song)\n",
        "    \n",
        "    #Append each signature_song to the signature_matrix\n",
        "    signature_mtrx.append(signature_song)\n",
        "  \n",
        "  return(np.array(signature_mtrx))"
      ]
    },
    {
      "cell_type": "code",
      "execution_count": null,
      "metadata": {
        "colab": {
          "base_uri": "https://localhost:8080/",
          "height": 49,
          "referenced_widgets": [
            "f351f61ea5334876b211f1b5c605e974",
            "39c0b67f39624094bc1bcc65a3b60c43",
            "dfb7135b98db4a3b92d3f038d474cd56",
            "a86eeff805544474b2c9d6d7d94e61f7",
            "650e250efa4e4fb48e373a98483df619",
            "4cf301ffbd02476a8a95f7c6c3f98fe2",
            "c5ddd330c14442e69f28ac844b15fe2d",
            "0c1b3967b4194709b2c7963f00763299",
            "c7b38e34cb704d1998840c95210301b8",
            "c0f156d0dd1c4e7b9e45e5c07df9b0b2",
            "973ab3f3983b4bd9b5814c680f3740af"
          ]
        },
        "id": "34Zomb-VJ8JT",
        "outputId": "6c476afa-659d-4b27-c60c-494a34060a03"
      },
      "outputs": [
        {
          "data": {
            "application/vnd.jupyter.widget-view+json": {
              "model_id": "f351f61ea5334876b211f1b5c605e974",
              "version_major": 2,
              "version_minor": 0
            },
            "text/plain": [
              "  0%|          | 0/1413 [00:00<?, ?it/s]"
            ]
          },
          "metadata": {},
          "output_type": "display_data"
        }
      ],
      "source": [
        "#Define number of permutation to be executed into signature_matrix_maker\n",
        "n_permutation=200\n",
        "\n",
        "#Extract signature_matrix\n",
        "signature_matrix=signature(onehot_peaks,n_permutation)"
      ]
    },
    {
      "cell_type": "markdown",
      "metadata": {
        "id": "zP2kKbJwOs7y"
      },
      "source": [
        "###**LSH: Bucketing**\n",
        "Once signature matrix has been computed, we will divide it into bands each containing $b$ rows. By the construction of the permutation algorithm used to build the signature matrix and said $V$ the sparse representation for a general song, we know that each of the elements of the signature matrix is in the interval $\\in [0,\\text{len}(V)]$. Given a band value $b$ (i.e. the length of each band), a band can assume $\\text{len}(V)^b$ different combinations. Because of this, through a simple hash function, we want each band (of each signature vector) to be hashed into an integer $\\in [1,\\text{len}(V)^b+1]$. The song index is then appended to the bucket corresponding hash-band value. Aim of this bucketing is to reduce the search of the best match once a query song is fed to the app: indeed, instead of searching the best match across all the songs in the dataset, we will search it only across the songs contained in the buckets where the bands of the query song have been hashed to. \n",
        "\n",
        "Said $x$ the band of a signature vector, and given $\\alpha$ a vector of random integers $\\in [1,M)$ s.t. $x \\in \\mathbb{N}^b,\\alpha\\in \\mathbb{R}^b$, the hash integer $h(x,\\alpha)$ is computed as follows:\n",
        "\n",
        "$$\n",
        "h(x,\\alpha)=\\left( \\sum_i\\alpha_i\\cdot x_i \\right) \\text{mod} (M)\n",
        "$$\n",
        "\n",
        "\n",
        "The prime number $M$ used in the $\\text{mod}$ operation has been chosen as the first prime greater than $\\text{len}(V)^b$ since we want to be able to represent at least $\\text{len}(V)^b$ combinations each band can assume.\n",
        "\n",
        "The $b$ value has to be properly set: setting $b=n$ (recalling that $n=n_{\\text{permutation}}$), each of the filled buckets will of course contain a single song. Since we want the user to be able to chose a similarity threshold (in order not to get just the exact match, but also similar songs to the input query), we want to lower the value of $b$ such to contain few similar songs in the same bucket of the query but keeping a good efficiency level which is the core reason of the LSH implementation. It heuristically turns out that $b=4$ accomplish those requirements. \n",
        "\n",
        "\n"
      ]
    },
    {
      "cell_type": "code",
      "execution_count": null,
      "metadata": {
        "id": "uPUO1nfaLYib"
      },
      "outputs": [],
      "source": [
        "#Define the function computing the hash having in input coefficients alpha, values x and the mod value\n",
        "def hash(coefficient,values,mod):\n",
        "  hash_key=(coefficient*values).sum()%mod\n",
        "  return(hash_key)"
      ]
    },
    {
      "cell_type": "code",
      "execution_count": null,
      "metadata": {
        "id": "nB0DZbopv0lX"
      },
      "outputs": [],
      "source": [
        "#Define a function to find the first prime greater than base^b\n",
        "def find_mod(base,band):\n",
        "  n=(base**band)\n",
        "  while(True):\n",
        "    n+=1\n",
        "    if(sympy.isprime(n)):\n",
        "      break\n",
        "  print(\"Module value chosen for the hash is: \",n)\n",
        "  return(n)"
      ]
    },
    {
      "cell_type": "code",
      "execution_count": null,
      "metadata": {
        "colab": {
          "base_uri": "https://localhost:8080/",
          "height": 66,
          "referenced_widgets": [
            "0aa668895f27415e801e4b743f9ac86f",
            "f501db68ffe74ffc987c0a1d2048f54e",
            "add3afc4d25c4681a8464b79402b19aa",
            "5e72dcb90030446c9dd70d14a9b23070",
            "e9df6a2f750544008205599c2708e210",
            "e72896ac39ed446f886702236f4022fb",
            "690fab11cbe54735aa898f080e3d2bd0",
            "5429d58e1ad545559cc4edd97a1a34bd",
            "5d57dc5496e34939b39734ea1a7e9f06",
            "4ec4a1b7fd4742e1ae36301f99809114",
            "023bc3642f494a77856d1315dfe5ece0"
          ]
        },
        "id": "h4SS0AdvN6uV",
        "outputId": "e3563486-a87d-4df3-ed98-90c958601427"
      },
      "outputs": [
        {
          "name": "stdout",
          "output_type": "stream",
          "text": [
            "Module value chosen for the hash is:  13051691563\n"
          ]
        },
        {
          "data": {
            "application/vnd.jupyter.widget-view+json": {
              "model_id": "0aa668895f27415e801e4b743f9ac86f",
              "version_major": 2,
              "version_minor": 0
            },
            "text/plain": [
              "  0%|          | 0/1413 [00:00<?, ?it/s]"
            ]
          },
          "metadata": {},
          "output_type": "display_data"
        }
      ],
      "source": [
        "#Define the length of each signature vector\n",
        "signature_len=n_permutation\n",
        "\n",
        "#Define the band value\n",
        "b=4\n",
        "\n",
        "#Initialize mod value and random coefficients for the hash function\n",
        "mod=find_mod(len(onehot_peaks[1]),b)\n",
        "random_coefficients=np.random.randint(1,mod-1,b)\n",
        "\n",
        "#Build buckets through a dictionary initializing each key with an empty list\n",
        "buckets={}\n",
        "#for bucket in tqdm(range(mod)):\n",
        "#  buckets[bucket]=[]\n",
        "\n",
        "#For each song in the signature matrix: \n",
        "for song in tqdm(range(N_TRACKS)):\n",
        "  #Each signature vector is divided into signature_len//b bands\n",
        "  for col in range(signature_len//b-1):\n",
        "    band=signature_matrix[song,col*b:(col+1)*b]\n",
        "    #Once the band is selected, its hash value is computed\n",
        "    key=hash(random_coefficients,band,mod)\n",
        "    \n",
        "    #The song is appended to the corresponding bucket\n",
        "    if key in buckets:\n",
        "      buckets[key].append(song)\n",
        "    else:\n",
        "      buckets[key]=[]\n",
        "      buckets[key].append(song)"
      ]
    },
    {
      "cell_type": "markdown",
      "metadata": {
        "id": "MhVOZYtWaARG"
      },
      "source": [
        "###Test query songs\n",
        "We are now going to feed each of the query songs into the same process:\n",
        "\n",
        "1.   Extract the dense vector of peaks through $\\texttt{load_audio_picks()}$;\n",
        "2.   Trasform the dense vector of peaks into its sparse one hot representation;\n",
        "3.   Convert the one hot sparse representation into a signature through the permutation algorithm;\n",
        "\n",
        "After the computation of the signature vector for each query song, the following steps are taken to find the best dataset song match according to our $\\text{THRESHOLD}$ value:\n",
        "\n",
        "4.   For each of the bands in the signature vector, compute its hash and store all the dataset songs contained in the corresponding bucket;\n",
        "5.   Store the dataset song having the best similarity value (i.e. percentage of identical shared element with the query song), considering that we are now using the $\\text{THRESHOLD}$ to upper bound the similarity value (better explanations in code comments);"
      ]
    },
    {
      "cell_type": "code",
      "execution_count": null,
      "metadata": {
        "id": "uFtmtDT_l0cC"
      },
      "outputs": [],
      "source": [
        "#Define a glob.glob sorting criteria to read query songs in order\n",
        "def sortKeyFunc(s):\n",
        "    return int(os.path.basename(s)[5:-4])"
      ]
    },
    {
      "cell_type": "code",
      "execution_count": null,
      "metadata": {
        "id": "G0Wb2UXvSUul"
      },
      "outputs": [],
      "source": [
        "#Read the query tracks\n",
        "query_folder = Path(\"query/\")\n",
        "query_tracks = sorted(query_folder.glob(\"*.wav\"), key=sortKeyFunc)\n"
      ]
    },
    {
      "cell_type": "code",
      "execution_count": null,
      "metadata": {
        "colab": {
          "base_uri": "https://localhost:8080/",
          "height": 49,
          "referenced_widgets": [
            "5c0f582c0438415e9260b965a6dfb418",
            "bad21e364a924a2699502add8a0a8b79",
            "58412d8f72664d1ba44cc2cea3208867",
            "156cd16db73f431688175f5071bc5e6f",
            "5d9a9b6d1f8b4ecda49a58a341191775",
            "9f10859199b34c0cbe99d011f1cd2e3e",
            "caaf79d4d0d24d17b20806d2b65d4069",
            "d9d89624a07348e8909a4f130e01e447",
            "c9e84da721144450b5640286a1bab4d7",
            "646af352f19349fdaf9054523a8c7a0e",
            "221e940bb4d44400be449e101360fa1e"
          ]
        },
        "id": "rm8gaPU4SUr1",
        "outputId": "d95724ee-acfd-4538-f039-0360c1be55aa"
      },
      "outputs": [
        {
          "data": {
            "application/vnd.jupyter.widget-view+json": {
              "model_id": "5c0f582c0438415e9260b965a6dfb418",
              "version_major": 2,
              "version_minor": 0
            },
            "text/plain": [
              "0it [00:00, ?it/s]"
            ]
          },
          "metadata": {},
          "output_type": "display_data"
        }
      ],
      "source": [
        "#For each of the query song, extrack the dense peak vectors through load_audio_picks()\n",
        "#and store it into query_peaks list\n",
        "query_peaks=[]\n",
        "for ind,audio in tqdm(enumerate(query_tracks)):\n",
        "    track, sr, onset_env, peaks = load_audio_picks(audio, DURATION, HOP_SIZE)\n",
        "    query_peaks.append(peaks)"
      ]
    },
    {
      "cell_type": "code",
      "execution_count": null,
      "metadata": {
        "id": "S-pxsqcPSUot"
      },
      "outputs": [],
      "source": [
        "#Trasform the dense peak vectors into one hot sparse vectors\n",
        "query_onehot=peaks_onehot_trasform(query_peaks,DURATION,compression_rate=comp_rate)"
      ]
    },
    {
      "cell_type": "code",
      "execution_count": null,
      "metadata": {
        "colab": {
          "base_uri": "https://localhost:8080/",
          "height": 49,
          "referenced_widgets": [
            "b4418b3348624ee3a062a77fb6898726",
            "2fa76277ad174cb3b72ce349b2db552f",
            "0c05499d951a44d1a7b9d78a93934be7",
            "35e21369ad7645e78551fcf950795f01",
            "6789160c5bbd4d8a9673f289d40194ff",
            "0f15ff1bfaab47c2b51273de18d487b2",
            "d23e98ffbcc949a4b75f6064049c545a",
            "45549f2917f24570bdb1c35168dd5bf3",
            "8a7235c9ea3f4af186de903d8b475987",
            "81cd7c1fb1d646b08560b7f0ef7550d7",
            "49d7fb4e567142089eced6bb4ab2e7ca"
          ]
        },
        "id": "_HxzGvGONuEO",
        "outputId": "c7773976-1e61-4b3c-9dba-34698d5a6cbd"
      },
      "outputs": [
        {
          "data": {
            "application/vnd.jupyter.widget-view+json": {
              "model_id": "b4418b3348624ee3a062a77fb6898726",
              "version_major": 2,
              "version_minor": 0
            },
            "text/plain": [
              "  0%|          | 0/10 [00:00<?, ?it/s]"
            ]
          },
          "metadata": {},
          "output_type": "display_data"
        }
      ],
      "source": [
        "#Extract the signature_matrix for the query songs\n",
        "query_signature_matrix=signature(query_onehot,n_permutation)"
      ]
    },
    {
      "cell_type": "code",
      "execution_count": null,
      "metadata": {
        "id": "jZWvoYrESUjP"
      },
      "outputs": [],
      "source": [
        "def best_matches(signature_matrix,query_signature_matrix,b,random_coefficients,mod,signature_len,THRESHOLD):\n",
        "  \n",
        "  #Define the number of query songs\n",
        "  n_query_songs=10\n",
        "\n",
        "  #For each of the query songs:\n",
        "  for query_song in range(n_query_songs):\n",
        "    #Each query signature vector is divided into signature_len//b bands\n",
        "    for col in range(signature_len//b-1):\n",
        "      band=query_signature_matrix[query_song,col*b:(col+1)*b]\n",
        "      #Once the band is selected, its hash value is computed\n",
        "      key=hash(random_coefficients,band,mod)\n",
        "\n",
        "      #We can now identify at wich bucket the query song band is mapped:\n",
        "      #All the dataset songs in the same bucket are stored in the similarity list\n",
        "      similarity=[]\n",
        "      for song_in_query_bucket in buckets[key]:\n",
        "        similarity.append(song_in_query_bucket)\n",
        "    \n",
        "    #Trasform the similarity list into a set to remove duplicate dataset songs\n",
        "    similarity_set=set(similarity)\n",
        "    best_similarity=0\n",
        "    best_match=0\n",
        "    \n",
        "    #For each of the dataset songs in the similarity set, a similarity_value to the query is computed\n",
        "    #(i.e. the percentage of identical element between the dataset song signature and the query signature)\n",
        "    for dataset_song in similarity_set:\n",
        "      similarity_value=(query_signature_matrix[query_song]==signature_matrix[dataset_song]).sum()/signature_len\n",
        "\n",
        "      #If this similarity_value is better than the actual best_similarity and lower than our threshold,\n",
        "      #best similarity is updated and the dataset_song is saved as the best_match \n",
        "      if(similarity_value>best_similarity and similarity_value<=THRESHOLD ):\n",
        "        best_similarity=similarity_value\n",
        "        best_match=dataset_song\n",
        "    #Print the best match if found\n",
        "    if(best_similarity!=0):\n",
        "      print(\"Best match for query song n.\",query_song+1,\"is:\",preprocessed_titles[best_match],sep=\" \")\n",
        "    else:\n",
        "      print(\"No match with similarity under treshold=\",THRESHOLD,\"found for query song n.\",query_song+1,\".\",sep=\" \")\n",
        "    print(\"(Searched in buckets with a total of\",len(similarity_set),\"dataset songs.)\\n\",sep=\" \")  \n"
      ]
    },
    {
      "cell_type": "markdown",
      "metadata": {
        "id": "kyxauZhKd9M0"
      },
      "source": [
        "### **Threshold output test**\n",
        "We compute and report results for several threshold values:\n",
        "\n",
        "*   For THRESHOLD = 1, the dataset songs exactly matching the query songs are reported;\n",
        "*   For THRESHOLD < 1, dataset songs similar to the query songs are reported;\n",
        "\n"
      ]
    },
    {
      "cell_type": "code",
      "execution_count": null,
      "metadata": {
        "colab": {
          "base_uri": "https://localhost:8080/",
          "height": 483
        },
        "id": "69Ds_dwvr152",
        "outputId": "463bee82-0fd9-42dc-927c-8b15778dc5a8"
      },
      "outputs": [
        {
          "data": {
            "image/png": "[encoded data removed]",
            "text/plain": [
              "<Figure size 1440x504 with 1 Axes>"
            ]
          },
          "metadata": {
            "needs_background": "light"
          },
          "output_type": "display_data"
        }
      ],
      "source": [
        "bands=np.array(range(0,n_permutation,b))\n",
        "\n",
        "plt.figure(figsize=(20,7))\n",
        "plt.plot(signature_matrix[380])\n",
        "plt.plot(query_signature_matrix[8])\n",
        "plt.vlines(bands,0,25,linestyles=\"dashed\")\n",
        "plt.vlines(26,3,25,linestyles=\"solid\",color=\"red\")\n",
        "plt.xlabel('Signature index',size=15)\n",
        "plt.ylabel('Value of signature',size=15)\n",
        "plt.title(\"Examples of two signature vectors on top of which we will look for identical elements.\\n Vertical dashed lines visualize the bands in which the signature is divided.\",size=15)\n",
        "plt.show()"
      ]
    },
    {
      "cell_type": "markdown",
      "metadata": {
        "id": "z-fTDOGXHieI"
      },
      "source": [
        "In the above example picture, a red vertical lineband is highlighting a band collision: two different songs, having an identical band, will be mapped in the same bin."
      ]
    },
    {
      "cell_type": "code",
      "execution_count": null,
      "metadata": {
        "colab": {
          "base_uri": "https://localhost:8080/"
        },
        "id": "JL0e-t49dsAG",
        "outputId": "cfd0e745-4314-437e-96d3-3ded620bf57f"
      },
      "outputs": [
        {
          "name": "stdout",
          "output_type": "stream",
          "text": [
            "Best match for query song n. 1 is: Aerosmith-Aerosmith-03-Dream On\n",
            "(Searched in buckets with a total of 4 dataset songs.)\n",
            "\n",
            "Best match for query song n. 2 is: Queen-The Works-06-I Want To Break Free\n",
            "(Searched in buckets with a total of 128 dataset songs.)\n",
            "\n",
            "Best match for query song n. 3 is: U2-October-07-October\n",
            "(Searched in buckets with a total of 2 dataset songs.)\n",
            "\n",
            "Best match for query song n. 4 is: Beatles-The White Album Disc 1-04-Ob-La-Di Ob-La-Da\n",
            "(Searched in buckets with a total of 377 dataset songs.)\n",
            "\n",
            "Best match for query song n. 5 is: Radiohead-Ok Computer-06-Karma Police\n",
            "(Searched in buckets with a total of 10 dataset songs.)\n",
            "\n",
            "Best match for query song n. 6 is: Led Zeppelin-Led Zeppelin Ii-05-Heartbreaker\n",
            "(Searched in buckets with a total of 10 dataset songs.)\n",
            "\n",
            "Best match for query song n. 7 is: Fleetwood Mac-Rumours-05-Go Your Own Way\n",
            "(Searched in buckets with a total of 189 dataset songs.)\n",
            "\n",
            "Best match for query song n. 8 is: Green Day-American Idiot-01-American Idiot\n",
            "(Searched in buckets with a total of 26 dataset songs.)\n",
            "\n",
            "Best match for query song n. 9 is: Depeche Mode-Some Great Reward-06-Somebody\n",
            "(Searched in buckets with a total of 255 dataset songs.)\n",
            "\n",
            "Best match for query song n. 10 is: Steely Dan-Katy Lied-01-Black Friday\n",
            "(Searched in buckets with a total of 3 dataset songs.)\n",
            "\n"
          ]
        }
      ],
      "source": [
        "THRESHOLD=1\n",
        "best_matches(signature_matrix,query_signature_matrix,b,random_coefficients,mod,signature_len,THRESHOLD)"
      ]
    },
    {
      "cell_type": "code",
      "execution_count": null,
      "metadata": {
        "colab": {
          "base_uri": "https://localhost:8080/"
        },
        "id": "SJ52IHKwd6Zi",
        "outputId": "0c165741-1e89-4b46-a9c0-6e1a720d23e7"
      },
      "outputs": [
        {
          "name": "stdout",
          "output_type": "stream",
          "text": [
            "Best match for query song n. 1 is: Madonna-Erotica-07-Waiting\n",
            "(Searched in buckets with a total of 4 dataset songs.)\n",
            "\n",
            "Best match for query song n. 2 is: Creedence Clearwater Revival-Green River-03-Tombstone Shadow\n",
            "(Searched in buckets with a total of 128 dataset songs.)\n",
            "\n",
            "Best match for query song n. 3 is: Queen-News Of The World-04-All Dead All Dead\n",
            "(Searched in buckets with a total of 2 dataset songs.)\n",
            "\n",
            "Best match for query song n. 4 is: Fleetwood Mac-Tusk-11-Angel\n",
            "(Searched in buckets with a total of 377 dataset songs.)\n",
            "\n",
            "Best match for query song n. 5 is: Steely Dan-Countdown To Ecstasy-01-Bodhisattva\n",
            "(Searched in buckets with a total of 10 dataset songs.)\n",
            "\n",
            "Best match for query song n. 6 is: Depeche Mode-Black Celebration-14-Black Day\n",
            "(Searched in buckets with a total of 10 dataset songs.)\n",
            "\n",
            "Best match for query song n. 7 is: Metallica-Load-06-Hero Of The Day\n",
            "(Searched in buckets with a total of 189 dataset songs.)\n",
            "\n",
            "Best match for query song n. 8 is: Led Zeppelin-Led Zeppelin Ii-08-Moby Dick\n",
            "(Searched in buckets with a total of 26 dataset songs.)\n",
            "\n",
            "Best match for query song n. 9 is: Depeche Mode-Music For The Masses-04-Sacred\n",
            "(Searched in buckets with a total of 255 dataset songs.)\n",
            "\n",
            "Best match for query song n. 10 is: Roxette-Crash Boom Bang -01-Harleys Indians Riders In The Sky \n",
            "(Searched in buckets with a total of 3 dataset songs.)\n",
            "\n"
          ]
        }
      ],
      "source": [
        "THRESHOLD=0.8\n",
        "best_matches(signature_matrix,query_signature_matrix,b,random_coefficients,mod,signature_len,THRESHOLD)"
      ]
    },
    {
      "cell_type": "code",
      "execution_count": null,
      "metadata": {
        "colab": {
          "base_uri": "https://localhost:8080/"
        },
        "id": "qHiibS2Td64o",
        "outputId": "8e7a676a-76d4-421c-8e9b-5fd68569b0de"
      },
      "outputs": [
        {
          "name": "stdout",
          "output_type": "stream",
          "text": [
            "Best match for query song n. 1 is: Madonna-Erotica-07-Waiting\n",
            "(Searched in buckets with a total of 4 dataset songs.)\n",
            "\n",
            "Best match for query song n. 2 is: Roxette-Have A Nice Day-04-Waiting For The Rain\n",
            "(Searched in buckets with a total of 128 dataset songs.)\n",
            "\n",
            "Best match for query song n. 3 is: Queen-News Of The World-04-All Dead All Dead\n",
            "(Searched in buckets with a total of 2 dataset songs.)\n",
            "\n",
            "Best match for query song n. 4 is: Aerosmith-Aerosmith-07-Movin Out\n",
            "(Searched in buckets with a total of 377 dataset songs.)\n",
            "\n",
            "Best match for query song n. 5 is: Steely Dan-Countdown To Ecstasy-01-Bodhisattva\n",
            "(Searched in buckets with a total of 10 dataset songs.)\n",
            "\n",
            "Best match for query song n. 6 is: Beatles-The White Album Disc 1-14-Don T Pass Me By\n",
            "(Searched in buckets with a total of 10 dataset songs.)\n",
            "\n",
            "Best match for query song n. 7 is: Led Zeppelin-Led Zeppelin Iii-06-Gallows Pole\n",
            "(Searched in buckets with a total of 189 dataset songs.)\n",
            "\n",
            "Best match for query song n. 8 is: Metallica-Load-05-King Nothing\n",
            "(Searched in buckets with a total of 26 dataset songs.)\n",
            "\n",
            "Best match for query song n. 9 is: Beatles-A Hard Day S Night-12-You Can T Do That\n",
            "(Searched in buckets with a total of 255 dataset songs.)\n",
            "\n",
            "Best match for query song n. 10 is: Prince-Parade-05-Girls Boys\n",
            "(Searched in buckets with a total of 3 dataset songs.)\n",
            "\n"
          ]
        }
      ],
      "source": [
        "THRESHOLD=0.3\n",
        "best_matches(signature_matrix,query_signature_matrix,b,random_coefficients,mod,signature_len,THRESHOLD)"
      ]
    }
  ],
  "metadata": {
    "colab": {
      "collapsed_sections": [],
      "name": "main_SHAZAM.ipynb",
      "provenance": []
    },
    "kernelspec": {
      "display_name": "Python 3",
      "language": "python",
      "name": "python3"
    },
    "language_info": {
      "codemirror_mode": {
        "name": "ipython",
        "version": 3
      },
      "file_extension": ".py",
      "mimetype": "text/x-python",
      "name": "python",
      "nbconvert_exporter": "python",
      "pygments_lexer": "ipython3",
      "version": "3.8.8"
    },
    "widgets": {
      "application/vnd.jupyter.widget-state+json": {
        "023bc3642f494a77856d1315dfe5ece0": {
          "model_module": "@jupyter-widgets/base",
          "model_module_version": "1.2.0",
          "model_name": "LayoutModel",
          "state": {
            "_model_module": "@jupyter-widgets/base",
            "_model_module_version": "1.2.0",
            "_model_name": "LayoutModel",
            "_view_count": null,
            "_view_module": "@jupyter-widgets/base",
            "_view_module_version": "1.2.0",
            "_view_name": "LayoutView",
            "align_content": null,
            "align_items": null,
            "align_self": null,
            "border": null,
            "bottom": null,
            "display": null,
            "flex": null,
            "flex_flow": null,
            "grid_area": null,
            "grid_auto_columns": null,
            "grid_auto_flow": null,
            "grid_auto_rows": null,
            "grid_column": null,
            "grid_gap": null,
            "grid_row": null,
            "grid_template_areas": null,
            "grid_template_columns": null,
            "grid_template_rows": null,
            "height": null,
            "justify_content": null,
            "justify_items": null,
            "left": null,
            "margin": null,
            "max_height": null,
            "max_width": null,
            "min_height": null,
            "min_width": null,
            "object_fit": null,
            "object_position": null,
            "order": null,
            "overflow": null,
            "overflow_x": null,
            "overflow_y": null,
            "padding": null,
            "right": null,
            "top": null,
            "visibility": null,
            "width": null
          }
        },
        "0aa668895f27415e801e4b743f9ac86f": {
          "model_module": "@jupyter-widgets/controls",
          "model_module_version": "1.5.0",
          "model_name": "HBoxModel",
          "state": {
            "_dom_classes": [],
            "_model_module": "@jupyter-widgets/controls",
            "_model_module_version": "1.5.0",
            "_model_name": "HBoxModel",
            "_view_count": null,
            "_view_module": "@jupyter-widgets/controls",
            "_view_module_version": "1.5.0",
            "_view_name": "HBoxView",
            "box_style": "",
            "children": [
              "IPY_MODEL_add3afc4d25c4681a8464b79402b19aa",
              "IPY_MODEL_5e72dcb90030446c9dd70d14a9b23070",
              "IPY_MODEL_e9df6a2f750544008205599c2708e210"
            ],
            "layout": "IPY_MODEL_f501db68ffe74ffc987c0a1d2048f54e"
          }
        },
        "0c05499d951a44d1a7b9d78a93934be7": {
          "model_module": "@jupyter-widgets/controls",
          "model_module_version": "1.5.0",
          "model_name": "HTMLModel",
          "state": {
            "_dom_classes": [],
            "_model_module": "@jupyter-widgets/controls",
            "_model_module_version": "1.5.0",
            "_model_name": "HTMLModel",
            "_view_count": null,
            "_view_module": "@jupyter-widgets/controls",
            "_view_module_version": "1.5.0",
            "_view_name": "HTMLView",
            "description": "",
            "description_tooltip": null,
            "layout": "IPY_MODEL_d23e98ffbcc949a4b75f6064049c545a",
            "placeholder": "​",
            "style": "IPY_MODEL_0f15ff1bfaab47c2b51273de18d487b2",
            "value": "100%"
          }
        },
        "0c1b3967b4194709b2c7963f00763299": {
          "model_module": "@jupyter-widgets/controls",
          "model_module_version": "1.5.0",
          "model_name": "ProgressStyleModel",
          "state": {
            "_model_module": "@jupyter-widgets/controls",
            "_model_module_version": "1.5.0",
            "_model_name": "ProgressStyleModel",
            "_view_count": null,
            "_view_module": "@jupyter-widgets/base",
            "_view_module_version": "1.2.0",
            "_view_name": "StyleView",
            "bar_color": null,
            "description_width": ""
          }
        },
        "0f15ff1bfaab47c2b51273de18d487b2": {
          "model_module": "@jupyter-widgets/controls",
          "model_module_version": "1.5.0",
          "model_name": "DescriptionStyleModel",
          "state": {
            "_model_module": "@jupyter-widgets/controls",
            "_model_module_version": "1.5.0",
            "_model_name": "DescriptionStyleModel",
            "_view_count": null,
            "_view_module": "@jupyter-widgets/base",
            "_view_module_version": "1.2.0",
            "_view_name": "StyleView",
            "description_width": ""
          }
        },
        "10d0edbe6fa54f98a6702fc626313fe1": {
          "model_module": "@jupyter-widgets/controls",
          "model_module_version": "1.5.0",
          "model_name": "DescriptionStyleModel",
          "state": {
            "_model_module": "@jupyter-widgets/controls",
            "_model_module_version": "1.5.0",
            "_model_name": "DescriptionStyleModel",
            "_view_count": null,
            "_view_module": "@jupyter-widgets/base",
            "_view_module_version": "1.2.0",
            "_view_name": "StyleView",
            "description_width": ""
          }
        },
        "12d57ab173af439ea5bbc223577d317c": {
          "model_module": "@jupyter-widgets/controls",
          "model_module_version": "1.5.0",
          "model_name": "HTMLModel",
          "state": {
            "_dom_classes": [],
            "_model_module": "@jupyter-widgets/controls",
            "_model_module_version": "1.5.0",
            "_model_name": "HTMLModel",
            "_view_count": null,
            "_view_module": "@jupyter-widgets/controls",
            "_view_module_version": "1.5.0",
            "_view_name": "HTMLView",
            "description": "",
            "description_tooltip": null,
            "layout": "IPY_MODEL_ee743d1845114c5abf578a1f71443157",
            "placeholder": "​",
            "style": "IPY_MODEL_a1f10e6e9c1d423b9718fd9f28816f98",
            "value": "100%"
          }
        },
        "156cd16db73f431688175f5071bc5e6f": {
          "model_module": "@jupyter-widgets/controls",
          "model_module_version": "1.5.0",
          "model_name": "FloatProgressModel",
          "state": {
            "_dom_classes": [],
            "_model_module": "@jupyter-widgets/controls",
            "_model_module_version": "1.5.0",
            "_model_name": "FloatProgressModel",
            "_view_count": null,
            "_view_module": "@jupyter-widgets/controls",
            "_view_module_version": "1.5.0",
            "_view_name": "ProgressView",
            "bar_style": "success",
            "description": "",
            "description_tooltip": null,
            "layout": "IPY_MODEL_c9e84da721144450b5640286a1bab4d7",
            "max": 1,
            "min": 0,
            "orientation": "horizontal",
            "style": "IPY_MODEL_d9d89624a07348e8909a4f130e01e447",
            "value": 1
          }
        },
        "1e55bc687b724401b34695fb1dcc10dd": {
          "model_module": "@jupyter-widgets/base",
          "model_module_version": "1.2.0",
          "model_name": "LayoutModel",
          "state": {
            "_model_module": "@jupyter-widgets/base",
            "_model_module_version": "1.2.0",
            "_model_name": "LayoutModel",
            "_view_count": null,
            "_view_module": "@jupyter-widgets/base",
            "_view_module_version": "1.2.0",
            "_view_name": "LayoutView",
            "align_content": null,
            "align_items": null,
            "align_self": null,
            "border": null,
            "bottom": null,
            "display": null,
            "flex": null,
            "flex_flow": null,
            "grid_area": null,
            "grid_auto_columns": null,
            "grid_auto_flow": null,
            "grid_auto_rows": null,
            "grid_column": null,
            "grid_gap": null,
            "grid_row": null,
            "grid_template_areas": null,
            "grid_template_columns": null,
            "grid_template_rows": null,
            "height": null,
            "justify_content": null,
            "justify_items": null,
            "left": null,
            "margin": null,
            "max_height": null,
            "max_width": null,
            "min_height": null,
            "min_width": null,
            "object_fit": null,
            "object_position": null,
            "order": null,
            "overflow": null,
            "overflow_x": null,
            "overflow_y": null,
            "padding": null,
            "right": null,
            "top": null,
            "visibility": null,
            "width": null
          }
        },
        "221e940bb4d44400be449e101360fa1e": {
          "model_module": "@jupyter-widgets/base",
          "model_module_version": "1.2.0",
          "model_name": "LayoutModel",
          "state": {
            "_model_module": "@jupyter-widgets/base",
            "_model_module_version": "1.2.0",
            "_model_name": "LayoutModel",
            "_view_count": null,
            "_view_module": "@jupyter-widgets/base",
            "_view_module_version": "1.2.0",
            "_view_name": "LayoutView",
            "align_content": null,
            "align_items": null,
            "align_self": null,
            "border": null,
            "bottom": null,
            "display": null,
            "flex": null,
            "flex_flow": null,
            "grid_area": null,
            "grid_auto_columns": null,
            "grid_auto_flow": null,
            "grid_auto_rows": null,
            "grid_column": null,
            "grid_gap": null,
            "grid_row": null,
            "grid_template_areas": null,
            "grid_template_columns": null,
            "grid_template_rows": null,
            "height": null,
            "justify_content": null,
            "justify_items": null,
            "left": null,
            "margin": null,
            "max_height": null,
            "max_width": null,
            "min_height": null,
            "min_width": null,
            "object_fit": null,
            "object_position": null,
            "order": null,
            "overflow": null,
            "overflow_x": null,
            "overflow_y": null,
            "padding": null,
            "right": null,
            "top": null,
            "visibility": null,
            "width": null
          }
        },
        "2fa76277ad174cb3b72ce349b2db552f": {
          "model_module": "@jupyter-widgets/base",
          "model_module_version": "1.2.0",
          "model_name": "LayoutModel",
          "state": {
            "_model_module": "@jupyter-widgets/base",
            "_model_module_version": "1.2.0",
            "_model_name": "LayoutModel",
            "_view_count": null,
            "_view_module": "@jupyter-widgets/base",
            "_view_module_version": "1.2.0",
            "_view_name": "LayoutView",
            "align_content": null,
            "align_items": null,
            "align_self": null,
            "border": null,
            "bottom": null,
            "display": null,
            "flex": null,
            "flex_flow": null,
            "grid_area": null,
            "grid_auto_columns": null,
            "grid_auto_flow": null,
            "grid_auto_rows": null,
            "grid_column": null,
            "grid_gap": null,
            "grid_row": null,
            "grid_template_areas": null,
            "grid_template_columns": null,
            "grid_template_rows": null,
            "height": null,
            "justify_content": null,
            "justify_items": null,
            "left": null,
            "margin": null,
            "max_height": null,
            "max_width": null,
            "min_height": null,
            "min_width": null,
            "object_fit": null,
            "object_position": null,
            "order": null,
            "overflow": null,
            "overflow_x": null,
            "overflow_y": null,
            "padding": null,
            "right": null,
            "top": null,
            "visibility": null,
            "width": null
          }
        },
        "35e21369ad7645e78551fcf950795f01": {
          "model_module": "@jupyter-widgets/controls",
          "model_module_version": "1.5.0",
          "model_name": "FloatProgressModel",
          "state": {
            "_dom_classes": [],
            "_model_module": "@jupyter-widgets/controls",
            "_model_module_version": "1.5.0",
            "_model_name": "FloatProgressModel",
            "_view_count": null,
            "_view_module": "@jupyter-widgets/controls",
            "_view_module_version": "1.5.0",
            "_view_name": "ProgressView",
            "bar_style": "success",
            "description": "",
            "description_tooltip": null,
            "layout": "IPY_MODEL_8a7235c9ea3f4af186de903d8b475987",
            "max": 10,
            "min": 0,
            "orientation": "horizontal",
            "style": "IPY_MODEL_45549f2917f24570bdb1c35168dd5bf3",
            "value": 10
          }
        },
        "39c0b67f39624094bc1bcc65a3b60c43": {
          "model_module": "@jupyter-widgets/base",
          "model_module_version": "1.2.0",
          "model_name": "LayoutModel",
          "state": {
            "_model_module": "@jupyter-widgets/base",
            "_model_module_version": "1.2.0",
            "_model_name": "LayoutModel",
            "_view_count": null,
            "_view_module": "@jupyter-widgets/base",
            "_view_module_version": "1.2.0",
            "_view_name": "LayoutView",
            "align_content": null,
            "align_items": null,
            "align_self": null,
            "border": null,
            "bottom": null,
            "display": null,
            "flex": null,
            "flex_flow": null,
            "grid_area": null,
            "grid_auto_columns": null,
            "grid_auto_flow": null,
            "grid_auto_rows": null,
            "grid_column": null,
            "grid_gap": null,
            "grid_row": null,
            "grid_template_areas": null,
            "grid_template_columns": null,
            "grid_template_rows": null,
            "height": null,
            "justify_content": null,
            "justify_items": null,
            "left": null,
            "margin": null,
            "max_height": null,
            "max_width": null,
            "min_height": null,
            "min_width": null,
            "object_fit": null,
            "object_position": null,
            "order": null,
            "overflow": null,
            "overflow_x": null,
            "overflow_y": null,
            "padding": null,
            "right": null,
            "top": null,
            "visibility": null,
            "width": null
          }
        },
        "40171f1e7daa40fe8f34aac5851f0641": {
          "model_module": "@jupyter-widgets/controls",
          "model_module_version": "1.5.0",
          "model_name": "ProgressStyleModel",
          "state": {
            "_model_module": "@jupyter-widgets/controls",
            "_model_module_version": "1.5.0",
            "_model_name": "ProgressStyleModel",
            "_view_count": null,
            "_view_module": "@jupyter-widgets/base",
            "_view_module_version": "1.2.0",
            "_view_name": "StyleView",
            "bar_color": null,
            "description_width": ""
          }
        },
        "413b0747ce7f4c508a17eeddf4ce919b": {
          "model_module": "@jupyter-widgets/base",
          "model_module_version": "1.2.0",
          "model_name": "LayoutModel",
          "state": {
            "_model_module": "@jupyter-widgets/base",
            "_model_module_version": "1.2.0",
            "_model_name": "LayoutModel",
            "_view_count": null,
            "_view_module": "@jupyter-widgets/base",
            "_view_module_version": "1.2.0",
            "_view_name": "LayoutView",
            "align_content": null,
            "align_items": null,
            "align_self": null,
            "border": null,
            "bottom": null,
            "display": null,
            "flex": null,
            "flex_flow": null,
            "grid_area": null,
            "grid_auto_columns": null,
            "grid_auto_flow": null,
            "grid_auto_rows": null,
            "grid_column": null,
            "grid_gap": null,
            "grid_row": null,
            "grid_template_areas": null,
            "grid_template_columns": null,
            "grid_template_rows": null,
            "height": null,
            "justify_content": null,
            "justify_items": null,
            "left": null,
            "margin": null,
            "max_height": null,
            "max_width": null,
            "min_height": null,
            "min_width": null,
            "object_fit": null,
            "object_position": null,
            "order": null,
            "overflow": null,
            "overflow_x": null,
            "overflow_y": null,
            "padding": null,
            "right": null,
            "top": null,
            "visibility": null,
            "width": null
          }
        },
        "45549f2917f24570bdb1c35168dd5bf3": {
          "model_module": "@jupyter-widgets/controls",
          "model_module_version": "1.5.0",
          "model_name": "ProgressStyleModel",
          "state": {
            "_model_module": "@jupyter-widgets/controls",
            "_model_module_version": "1.5.0",
            "_model_name": "ProgressStyleModel",
            "_view_count": null,
            "_view_module": "@jupyter-widgets/base",
            "_view_module_version": "1.2.0",
            "_view_name": "StyleView",
            "bar_color": null,
            "description_width": ""
          }
        },
        "49d7fb4e567142089eced6bb4ab2e7ca": {
          "model_module": "@jupyter-widgets/base",
          "model_module_version": "1.2.0",
          "model_name": "LayoutModel",
          "state": {
            "_model_module": "@jupyter-widgets/base",
            "_model_module_version": "1.2.0",
            "_model_name": "LayoutModel",
            "_view_count": null,
            "_view_module": "@jupyter-widgets/base",
            "_view_module_version": "1.2.0",
            "_view_name": "LayoutView",
            "align_content": null,
            "align_items": null,
            "align_self": null,
            "border": null,
            "bottom": null,
            "display": null,
            "flex": null,
            "flex_flow": null,
            "grid_area": null,
            "grid_auto_columns": null,
            "grid_auto_flow": null,
            "grid_auto_rows": null,
            "grid_column": null,
            "grid_gap": null,
            "grid_row": null,
            "grid_template_areas": null,
            "grid_template_columns": null,
            "grid_template_rows": null,
            "height": null,
            "justify_content": null,
            "justify_items": null,
            "left": null,
            "margin": null,
            "max_height": null,
            "max_width": null,
            "min_height": null,
            "min_width": null,
            "object_fit": null,
            "object_position": null,
            "order": null,
            "overflow": null,
            "overflow_x": null,
            "overflow_y": null,
            "padding": null,
            "right": null,
            "top": null,
            "visibility": null,
            "width": null
          }
        },
        "4c8af36ed4fa4a30ad8ff5110d0871f9": {
          "model_module": "@jupyter-widgets/controls",
          "model_module_version": "1.5.0",
          "model_name": "HBoxModel",
          "state": {
            "_dom_classes": [],
            "_model_module": "@jupyter-widgets/controls",
            "_model_module_version": "1.5.0",
            "_model_name": "HBoxModel",
            "_view_count": null,
            "_view_module": "@jupyter-widgets/controls",
            "_view_module_version": "1.5.0",
            "_view_name": "HBoxView",
            "box_style": "",
            "children": [
              "IPY_MODEL_12d57ab173af439ea5bbc223577d317c",
              "IPY_MODEL_9ac682b76bd24d2496fd459de150877b",
              "IPY_MODEL_e661ecef969343d689c5e328aa0061eb"
            ],
            "layout": "IPY_MODEL_1e55bc687b724401b34695fb1dcc10dd"
          }
        },
        "4cf301ffbd02476a8a95f7c6c3f98fe2": {
          "model_module": "@jupyter-widgets/controls",
          "model_module_version": "1.5.0",
          "model_name": "DescriptionStyleModel",
          "state": {
            "_model_module": "@jupyter-widgets/controls",
            "_model_module_version": "1.5.0",
            "_model_name": "DescriptionStyleModel",
            "_view_count": null,
            "_view_module": "@jupyter-widgets/base",
            "_view_module_version": "1.2.0",
            "_view_name": "StyleView",
            "description_width": ""
          }
        },
        "4ec4a1b7fd4742e1ae36301f99809114": {
          "model_module": "@jupyter-widgets/controls",
          "model_module_version": "1.5.0",
          "model_name": "DescriptionStyleModel",
          "state": {
            "_model_module": "@jupyter-widgets/controls",
            "_model_module_version": "1.5.0",
            "_model_name": "DescriptionStyleModel",
            "_view_count": null,
            "_view_module": "@jupyter-widgets/base",
            "_view_module_version": "1.2.0",
            "_view_name": "StyleView",
            "description_width": ""
          }
        },
        "5429d58e1ad545559cc4edd97a1a34bd": {
          "model_module": "@jupyter-widgets/controls",
          "model_module_version": "1.5.0",
          "model_name": "ProgressStyleModel",
          "state": {
            "_model_module": "@jupyter-widgets/controls",
            "_model_module_version": "1.5.0",
            "_model_name": "ProgressStyleModel",
            "_view_count": null,
            "_view_module": "@jupyter-widgets/base",
            "_view_module_version": "1.2.0",
            "_view_name": "StyleView",
            "bar_color": null,
            "description_width": ""
          }
        },
        "555d9568134b4b428c1cdd9882baa5c4": {
          "model_module": "@jupyter-widgets/base",
          "model_module_version": "1.2.0",
          "model_name": "LayoutModel",
          "state": {
            "_model_module": "@jupyter-widgets/base",
            "_model_module_version": "1.2.0",
            "_model_name": "LayoutModel",
            "_view_count": null,
            "_view_module": "@jupyter-widgets/base",
            "_view_module_version": "1.2.0",
            "_view_name": "LayoutView",
            "align_content": null,
            "align_items": null,
            "align_self": null,
            "border": null,
            "bottom": null,
            "display": null,
            "flex": null,
            "flex_flow": null,
            "grid_area": null,
            "grid_auto_columns": null,
            "grid_auto_flow": null,
            "grid_auto_rows": null,
            "grid_column": null,
            "grid_gap": null,
            "grid_row": null,
            "grid_template_areas": null,
            "grid_template_columns": null,
            "grid_template_rows": null,
            "height": null,
            "justify_content": null,
            "justify_items": null,
            "left": null,
            "margin": null,
            "max_height": null,
            "max_width": null,
            "min_height": null,
            "min_width": null,
            "object_fit": null,
            "object_position": null,
            "order": null,
            "overflow": null,
            "overflow_x": null,
            "overflow_y": null,
            "padding": null,
            "right": null,
            "top": null,
            "visibility": null,
            "width": null
          }
        },
        "58412d8f72664d1ba44cc2cea3208867": {
          "model_module": "@jupyter-widgets/controls",
          "model_module_version": "1.5.0",
          "model_name": "HTMLModel",
          "state": {
            "_dom_classes": [],
            "_model_module": "@jupyter-widgets/controls",
            "_model_module_version": "1.5.0",
            "_model_name": "HTMLModel",
            "_view_count": null,
            "_view_module": "@jupyter-widgets/controls",
            "_view_module_version": "1.5.0",
            "_view_name": "HTMLView",
            "description": "",
            "description_tooltip": null,
            "layout": "IPY_MODEL_caaf79d4d0d24d17b20806d2b65d4069",
            "placeholder": "​",
            "style": "IPY_MODEL_9f10859199b34c0cbe99d011f1cd2e3e",
            "value": ""
          }
        },
        "5c0f582c0438415e9260b965a6dfb418": {
          "model_module": "@jupyter-widgets/controls",
          "model_module_version": "1.5.0",
          "model_name": "HBoxModel",
          "state": {
            "_dom_classes": [],
            "_model_module": "@jupyter-widgets/controls",
            "_model_module_version": "1.5.0",
            "_model_name": "HBoxModel",
            "_view_count": null,
            "_view_module": "@jupyter-widgets/controls",
            "_view_module_version": "1.5.0",
            "_view_name": "HBoxView",
            "box_style": "",
            "children": [
              "IPY_MODEL_58412d8f72664d1ba44cc2cea3208867",
              "IPY_MODEL_156cd16db73f431688175f5071bc5e6f",
              "IPY_MODEL_5d9a9b6d1f8b4ecda49a58a341191775"
            ],
            "layout": "IPY_MODEL_bad21e364a924a2699502add8a0a8b79"
          }
        },
        "5d57dc5496e34939b39734ea1a7e9f06": {
          "model_module": "@jupyter-widgets/base",
          "model_module_version": "1.2.0",
          "model_name": "LayoutModel",
          "state": {
            "_model_module": "@jupyter-widgets/base",
            "_model_module_version": "1.2.0",
            "_model_name": "LayoutModel",
            "_view_count": null,
            "_view_module": "@jupyter-widgets/base",
            "_view_module_version": "1.2.0",
            "_view_name": "LayoutView",
            "align_content": null,
            "align_items": null,
            "align_self": null,
            "border": null,
            "bottom": null,
            "display": null,
            "flex": null,
            "flex_flow": null,
            "grid_area": null,
            "grid_auto_columns": null,
            "grid_auto_flow": null,
            "grid_auto_rows": null,
            "grid_column": null,
            "grid_gap": null,
            "grid_row": null,
            "grid_template_areas": null,
            "grid_template_columns": null,
            "grid_template_rows": null,
            "height": null,
            "justify_content": null,
            "justify_items": null,
            "left": null,
            "margin": null,
            "max_height": null,
            "max_width": null,
            "min_height": null,
            "min_width": null,
            "object_fit": null,
            "object_position": null,
            "order": null,
            "overflow": null,
            "overflow_x": null,
            "overflow_y": null,
            "padding": null,
            "right": null,
            "top": null,
            "visibility": null,
            "width": null
          }
        },
        "5d9a9b6d1f8b4ecda49a58a341191775": {
          "model_module": "@jupyter-widgets/controls",
          "model_module_version": "1.5.0",
          "model_name": "HTMLModel",
          "state": {
            "_dom_classes": [],
            "_model_module": "@jupyter-widgets/controls",
            "_model_module_version": "1.5.0",
            "_model_name": "HTMLModel",
            "_view_count": null,
            "_view_module": "@jupyter-widgets/controls",
            "_view_module_version": "1.5.0",
            "_view_name": "HTMLView",
            "description": "",
            "description_tooltip": null,
            "layout": "IPY_MODEL_221e940bb4d44400be449e101360fa1e",
            "placeholder": "​",
            "style": "IPY_MODEL_646af352f19349fdaf9054523a8c7a0e",
            "value": " 10/? [00:13&lt;00:00,  1.34s/it]"
          }
        },
        "5e72dcb90030446c9dd70d14a9b23070": {
          "model_module": "@jupyter-widgets/controls",
          "model_module_version": "1.5.0",
          "model_name": "FloatProgressModel",
          "state": {
            "_dom_classes": [],
            "_model_module": "@jupyter-widgets/controls",
            "_model_module_version": "1.5.0",
            "_model_name": "FloatProgressModel",
            "_view_count": null,
            "_view_module": "@jupyter-widgets/controls",
            "_view_module_version": "1.5.0",
            "_view_name": "ProgressView",
            "bar_style": "success",
            "description": "",
            "description_tooltip": null,
            "layout": "IPY_MODEL_5d57dc5496e34939b39734ea1a7e9f06",
            "max": 1413,
            "min": 0,
            "orientation": "horizontal",
            "style": "IPY_MODEL_5429d58e1ad545559cc4edd97a1a34bd",
            "value": 1413
          }
        },
        "646af352f19349fdaf9054523a8c7a0e": {
          "model_module": "@jupyter-widgets/controls",
          "model_module_version": "1.5.0",
          "model_name": "DescriptionStyleModel",
          "state": {
            "_model_module": "@jupyter-widgets/controls",
            "_model_module_version": "1.5.0",
            "_model_name": "DescriptionStyleModel",
            "_view_count": null,
            "_view_module": "@jupyter-widgets/base",
            "_view_module_version": "1.2.0",
            "_view_name": "StyleView",
            "description_width": ""
          }
        },
        "650e250efa4e4fb48e373a98483df619": {
          "model_module": "@jupyter-widgets/controls",
          "model_module_version": "1.5.0",
          "model_name": "HTMLModel",
          "state": {
            "_dom_classes": [],
            "_model_module": "@jupyter-widgets/controls",
            "_model_module_version": "1.5.0",
            "_model_name": "HTMLModel",
            "_view_count": null,
            "_view_module": "@jupyter-widgets/controls",
            "_view_module_version": "1.5.0",
            "_view_name": "HTMLView",
            "description": "",
            "description_tooltip": null,
            "layout": "IPY_MODEL_973ab3f3983b4bd9b5814c680f3740af",
            "placeholder": "​",
            "style": "IPY_MODEL_c0f156d0dd1c4e7b9e45e5c07df9b0b2",
            "value": " 1413/1413 [01:50&lt;00:00, 12.73it/s]"
          }
        },
        "6789160c5bbd4d8a9673f289d40194ff": {
          "model_module": "@jupyter-widgets/controls",
          "model_module_version": "1.5.0",
          "model_name": "HTMLModel",
          "state": {
            "_dom_classes": [],
            "_model_module": "@jupyter-widgets/controls",
            "_model_module_version": "1.5.0",
            "_model_name": "HTMLModel",
            "_view_count": null,
            "_view_module": "@jupyter-widgets/controls",
            "_view_module_version": "1.5.0",
            "_view_name": "HTMLView",
            "description": "",
            "description_tooltip": null,
            "layout": "IPY_MODEL_49d7fb4e567142089eced6bb4ab2e7ca",
            "placeholder": "​",
            "style": "IPY_MODEL_81cd7c1fb1d646b08560b7f0ef7550d7",
            "value": " 10/10 [00:00&lt;00:00, 12.31it/s]"
          }
        },
        "690fab11cbe54735aa898f080e3d2bd0": {
          "model_module": "@jupyter-widgets/base",
          "model_module_version": "1.2.0",
          "model_name": "LayoutModel",
          "state": {
            "_model_module": "@jupyter-widgets/base",
            "_model_module_version": "1.2.0",
            "_model_name": "LayoutModel",
            "_view_count": null,
            "_view_module": "@jupyter-widgets/base",
            "_view_module_version": "1.2.0",
            "_view_name": "LayoutView",
            "align_content": null,
            "align_items": null,
            "align_self": null,
            "border": null,
            "bottom": null,
            "display": null,
            "flex": null,
            "flex_flow": null,
            "grid_area": null,
            "grid_auto_columns": null,
            "grid_auto_flow": null,
            "grid_auto_rows": null,
            "grid_column": null,
            "grid_gap": null,
            "grid_row": null,
            "grid_template_areas": null,
            "grid_template_columns": null,
            "grid_template_rows": null,
            "height": null,
            "justify_content": null,
            "justify_items": null,
            "left": null,
            "margin": null,
            "max_height": null,
            "max_width": null,
            "min_height": null,
            "min_width": null,
            "object_fit": null,
            "object_position": null,
            "order": null,
            "overflow": null,
            "overflow_x": null,
            "overflow_y": null,
            "padding": null,
            "right": null,
            "top": null,
            "visibility": null,
            "width": null
          }
        },
        "6b72d1d7332447c39ac4c19757f5f5e1": {
          "model_module": "@jupyter-widgets/controls",
          "model_module_version": "1.5.0",
          "model_name": "HTMLModel",
          "state": {
            "_dom_classes": [],
            "_model_module": "@jupyter-widgets/controls",
            "_model_module_version": "1.5.0",
            "_model_name": "HTMLModel",
            "_view_count": null,
            "_view_module": "@jupyter-widgets/controls",
            "_view_module_version": "1.5.0",
            "_view_name": "HTMLView",
            "description": "",
            "description_tooltip": null,
            "layout": "IPY_MODEL_8921ee77f316409da9ca2f1af509f617",
            "placeholder": "​",
            "style": "IPY_MODEL_6d8aa23c02cb4a758802001215afb8fa",
            "value": ""
          }
        },
        "6d8aa23c02cb4a758802001215afb8fa": {
          "model_module": "@jupyter-widgets/controls",
          "model_module_version": "1.5.0",
          "model_name": "DescriptionStyleModel",
          "state": {
            "_model_module": "@jupyter-widgets/controls",
            "_model_module_version": "1.5.0",
            "_model_name": "DescriptionStyleModel",
            "_view_count": null,
            "_view_module": "@jupyter-widgets/base",
            "_view_module_version": "1.2.0",
            "_view_name": "StyleView",
            "description_width": ""
          }
        },
        "729598140d5c4240b3f13755f597b9d2": {
          "model_module": "@jupyter-widgets/controls",
          "model_module_version": "1.5.0",
          "model_name": "ProgressStyleModel",
          "state": {
            "_model_module": "@jupyter-widgets/controls",
            "_model_module_version": "1.5.0",
            "_model_name": "ProgressStyleModel",
            "_view_count": null,
            "_view_module": "@jupyter-widgets/base",
            "_view_module_version": "1.2.0",
            "_view_name": "StyleView",
            "bar_color": null,
            "description_width": ""
          }
        },
        "749d699f4c424946bf33e10c72bee86e": {
          "model_module": "@jupyter-widgets/base",
          "model_module_version": "1.2.0",
          "model_name": "LayoutModel",
          "state": {
            "_model_module": "@jupyter-widgets/base",
            "_model_module_version": "1.2.0",
            "_model_name": "LayoutModel",
            "_view_count": null,
            "_view_module": "@jupyter-widgets/base",
            "_view_module_version": "1.2.0",
            "_view_name": "LayoutView",
            "align_content": null,
            "align_items": null,
            "align_self": null,
            "border": null,
            "bottom": null,
            "display": null,
            "flex": null,
            "flex_flow": null,
            "grid_area": null,
            "grid_auto_columns": null,
            "grid_auto_flow": null,
            "grid_auto_rows": null,
            "grid_column": null,
            "grid_gap": null,
            "grid_row": null,
            "grid_template_areas": null,
            "grid_template_columns": null,
            "grid_template_rows": null,
            "height": null,
            "justify_content": null,
            "justify_items": null,
            "left": null,
            "margin": null,
            "max_height": null,
            "max_width": null,
            "min_height": null,
            "min_width": null,
            "object_fit": null,
            "object_position": null,
            "order": null,
            "overflow": null,
            "overflow_x": null,
            "overflow_y": null,
            "padding": null,
            "right": null,
            "top": null,
            "visibility": null,
            "width": null
          }
        },
        "756c19045fef499e818148f8b54d65f4": {
          "model_module": "@jupyter-widgets/controls",
          "model_module_version": "1.5.0",
          "model_name": "HTMLModel",
          "state": {
            "_dom_classes": [],
            "_model_module": "@jupyter-widgets/controls",
            "_model_module_version": "1.5.0",
            "_model_name": "HTMLModel",
            "_view_count": null,
            "_view_module": "@jupyter-widgets/controls",
            "_view_module_version": "1.5.0",
            "_view_name": "HTMLView",
            "description": "",
            "description_tooltip": null,
            "layout": "IPY_MODEL_413b0747ce7f4c508a17eeddf4ce919b",
            "placeholder": "​",
            "style": "IPY_MODEL_10d0edbe6fa54f98a6702fc626313fe1",
            "value": " 1413/? [32:26&lt;00:00,  1.31s/it]"
          }
        },
        "7a037f34a0624f0685ded24950826e51": {
          "model_module": "@jupyter-widgets/controls",
          "model_module_version": "1.5.0",
          "model_name": "DescriptionStyleModel",
          "state": {
            "_model_module": "@jupyter-widgets/controls",
            "_model_module_version": "1.5.0",
            "_model_name": "DescriptionStyleModel",
            "_view_count": null,
            "_view_module": "@jupyter-widgets/base",
            "_view_module_version": "1.2.0",
            "_view_name": "StyleView",
            "description_width": ""
          }
        },
        "81cd7c1fb1d646b08560b7f0ef7550d7": {
          "model_module": "@jupyter-widgets/controls",
          "model_module_version": "1.5.0",
          "model_name": "DescriptionStyleModel",
          "state": {
            "_model_module": "@jupyter-widgets/controls",
            "_model_module_version": "1.5.0",
            "_model_name": "DescriptionStyleModel",
            "_view_count": null,
            "_view_module": "@jupyter-widgets/base",
            "_view_module_version": "1.2.0",
            "_view_name": "StyleView",
            "description_width": ""
          }
        },
        "8921ee77f316409da9ca2f1af509f617": {
          "model_module": "@jupyter-widgets/base",
          "model_module_version": "1.2.0",
          "model_name": "LayoutModel",
          "state": {
            "_model_module": "@jupyter-widgets/base",
            "_model_module_version": "1.2.0",
            "_model_name": "LayoutModel",
            "_view_count": null,
            "_view_module": "@jupyter-widgets/base",
            "_view_module_version": "1.2.0",
            "_view_name": "LayoutView",
            "align_content": null,
            "align_items": null,
            "align_self": null,
            "border": null,
            "bottom": null,
            "display": null,
            "flex": null,
            "flex_flow": null,
            "grid_area": null,
            "grid_auto_columns": null,
            "grid_auto_flow": null,
            "grid_auto_rows": null,
            "grid_column": null,
            "grid_gap": null,
            "grid_row": null,
            "grid_template_areas": null,
            "grid_template_columns": null,
            "grid_template_rows": null,
            "height": null,
            "justify_content": null,
            "justify_items": null,
            "left": null,
            "margin": null,
            "max_height": null,
            "max_width": null,
            "min_height": null,
            "min_width": null,
            "object_fit": null,
            "object_position": null,
            "order": null,
            "overflow": null,
            "overflow_x": null,
            "overflow_y": null,
            "padding": null,
            "right": null,
            "top": null,
            "visibility": null,
            "width": null
          }
        },
        "8a7235c9ea3f4af186de903d8b475987": {
          "model_module": "@jupyter-widgets/base",
          "model_module_version": "1.2.0",
          "model_name": "LayoutModel",
          "state": {
            "_model_module": "@jupyter-widgets/base",
            "_model_module_version": "1.2.0",
            "_model_name": "LayoutModel",
            "_view_count": null,
            "_view_module": "@jupyter-widgets/base",
            "_view_module_version": "1.2.0",
            "_view_name": "LayoutView",
            "align_content": null,
            "align_items": null,
            "align_self": null,
            "border": null,
            "bottom": null,
            "display": null,
            "flex": null,
            "flex_flow": null,
            "grid_area": null,
            "grid_auto_columns": null,
            "grid_auto_flow": null,
            "grid_auto_rows": null,
            "grid_column": null,
            "grid_gap": null,
            "grid_row": null,
            "grid_template_areas": null,
            "grid_template_columns": null,
            "grid_template_rows": null,
            "height": null,
            "justify_content": null,
            "justify_items": null,
            "left": null,
            "margin": null,
            "max_height": null,
            "max_width": null,
            "min_height": null,
            "min_width": null,
            "object_fit": null,
            "object_position": null,
            "order": null,
            "overflow": null,
            "overflow_x": null,
            "overflow_y": null,
            "padding": null,
            "right": null,
            "top": null,
            "visibility": null,
            "width": null
          }
        },
        "973ab3f3983b4bd9b5814c680f3740af": {
          "model_module": "@jupyter-widgets/base",
          "model_module_version": "1.2.0",
          "model_name": "LayoutModel",
          "state": {
            "_model_module": "@jupyter-widgets/base",
            "_model_module_version": "1.2.0",
            "_model_name": "LayoutModel",
            "_view_count": null,
            "_view_module": "@jupyter-widgets/base",
            "_view_module_version": "1.2.0",
            "_view_name": "LayoutView",
            "align_content": null,
            "align_items": null,
            "align_self": null,
            "border": null,
            "bottom": null,
            "display": null,
            "flex": null,
            "flex_flow": null,
            "grid_area": null,
            "grid_auto_columns": null,
            "grid_auto_flow": null,
            "grid_auto_rows": null,
            "grid_column": null,
            "grid_gap": null,
            "grid_row": null,
            "grid_template_areas": null,
            "grid_template_columns": null,
            "grid_template_rows": null,
            "height": null,
            "justify_content": null,
            "justify_items": null,
            "left": null,
            "margin": null,
            "max_height": null,
            "max_width": null,
            "min_height": null,
            "min_width": null,
            "object_fit": null,
            "object_position": null,
            "order": null,
            "overflow": null,
            "overflow_x": null,
            "overflow_y": null,
            "padding": null,
            "right": null,
            "top": null,
            "visibility": null,
            "width": null
          }
        },
        "9ac682b76bd24d2496fd459de150877b": {
          "model_module": "@jupyter-widgets/controls",
          "model_module_version": "1.5.0",
          "model_name": "FloatProgressModel",
          "state": {
            "_dom_classes": [],
            "_model_module": "@jupyter-widgets/controls",
            "_model_module_version": "1.5.0",
            "_model_name": "FloatProgressModel",
            "_view_count": null,
            "_view_module": "@jupyter-widgets/controls",
            "_view_module_version": "1.5.0",
            "_view_name": "ProgressView",
            "bar_style": "success",
            "description": "",
            "description_tooltip": null,
            "layout": "IPY_MODEL_749d699f4c424946bf33e10c72bee86e",
            "max": 1413,
            "min": 0,
            "orientation": "horizontal",
            "style": "IPY_MODEL_40171f1e7daa40fe8f34aac5851f0641",
            "value": 1413
          }
        },
        "9f10859199b34c0cbe99d011f1cd2e3e": {
          "model_module": "@jupyter-widgets/controls",
          "model_module_version": "1.5.0",
          "model_name": "DescriptionStyleModel",
          "state": {
            "_model_module": "@jupyter-widgets/controls",
            "_model_module_version": "1.5.0",
            "_model_name": "DescriptionStyleModel",
            "_view_count": null,
            "_view_module": "@jupyter-widgets/base",
            "_view_module_version": "1.2.0",
            "_view_name": "StyleView",
            "description_width": ""
          }
        },
        "a1f10e6e9c1d423b9718fd9f28816f98": {
          "model_module": "@jupyter-widgets/controls",
          "model_module_version": "1.5.0",
          "model_name": "DescriptionStyleModel",
          "state": {
            "_model_module": "@jupyter-widgets/controls",
            "_model_module_version": "1.5.0",
            "_model_name": "DescriptionStyleModel",
            "_view_count": null,
            "_view_module": "@jupyter-widgets/base",
            "_view_module_version": "1.2.0",
            "_view_name": "StyleView",
            "description_width": ""
          }
        },
        "a7ec8d5386c442d7b05a63416aaf25d4": {
          "model_module": "@jupyter-widgets/base",
          "model_module_version": "1.2.0",
          "model_name": "LayoutModel",
          "state": {
            "_model_module": "@jupyter-widgets/base",
            "_model_module_version": "1.2.0",
            "_model_name": "LayoutModel",
            "_view_count": null,
            "_view_module": "@jupyter-widgets/base",
            "_view_module_version": "1.2.0",
            "_view_name": "LayoutView",
            "align_content": null,
            "align_items": null,
            "align_self": null,
            "border": null,
            "bottom": null,
            "display": null,
            "flex": null,
            "flex_flow": null,
            "grid_area": null,
            "grid_auto_columns": null,
            "grid_auto_flow": null,
            "grid_auto_rows": null,
            "grid_column": null,
            "grid_gap": null,
            "grid_row": null,
            "grid_template_areas": null,
            "grid_template_columns": null,
            "grid_template_rows": null,
            "height": null,
            "justify_content": null,
            "justify_items": null,
            "left": null,
            "margin": null,
            "max_height": null,
            "max_width": null,
            "min_height": null,
            "min_width": null,
            "object_fit": null,
            "object_position": null,
            "order": null,
            "overflow": null,
            "overflow_x": null,
            "overflow_y": null,
            "padding": null,
            "right": null,
            "top": null,
            "visibility": null,
            "width": "20px"
          }
        },
        "a86eeff805544474b2c9d6d7d94e61f7": {
          "model_module": "@jupyter-widgets/controls",
          "model_module_version": "1.5.0",
          "model_name": "FloatProgressModel",
          "state": {
            "_dom_classes": [],
            "_model_module": "@jupyter-widgets/controls",
            "_model_module_version": "1.5.0",
            "_model_name": "FloatProgressModel",
            "_view_count": null,
            "_view_module": "@jupyter-widgets/controls",
            "_view_module_version": "1.5.0",
            "_view_name": "ProgressView",
            "bar_style": "success",
            "description": "",
            "description_tooltip": null,
            "layout": "IPY_MODEL_c7b38e34cb704d1998840c95210301b8",
            "max": 1413,
            "min": 0,
            "orientation": "horizontal",
            "style": "IPY_MODEL_0c1b3967b4194709b2c7963f00763299",
            "value": 1413
          }
        },
        "add3afc4d25c4681a8464b79402b19aa": {
          "model_module": "@jupyter-widgets/controls",
          "model_module_version": "1.5.0",
          "model_name": "HTMLModel",
          "state": {
            "_dom_classes": [],
            "_model_module": "@jupyter-widgets/controls",
            "_model_module_version": "1.5.0",
            "_model_name": "HTMLModel",
            "_view_count": null,
            "_view_module": "@jupyter-widgets/controls",
            "_view_module_version": "1.5.0",
            "_view_name": "HTMLView",
            "description": "",
            "description_tooltip": null,
            "layout": "IPY_MODEL_690fab11cbe54735aa898f080e3d2bd0",
            "placeholder": "​",
            "style": "IPY_MODEL_e72896ac39ed446f886702236f4022fb",
            "value": "100%"
          }
        },
        "b0fa535df637490ba67184c2ec7a59c9": {
          "model_module": "@jupyter-widgets/controls",
          "model_module_version": "1.5.0",
          "model_name": "FloatProgressModel",
          "state": {
            "_dom_classes": [],
            "_model_module": "@jupyter-widgets/controls",
            "_model_module_version": "1.5.0",
            "_model_name": "FloatProgressModel",
            "_view_count": null,
            "_view_module": "@jupyter-widgets/controls",
            "_view_module_version": "1.5.0",
            "_view_name": "ProgressView",
            "bar_style": "success",
            "description": "",
            "description_tooltip": null,
            "layout": "IPY_MODEL_a7ec8d5386c442d7b05a63416aaf25d4",
            "max": 1,
            "min": 0,
            "orientation": "horizontal",
            "style": "IPY_MODEL_729598140d5c4240b3f13755f597b9d2",
            "value": 1
          }
        },
        "b4418b3348624ee3a062a77fb6898726": {
          "model_module": "@jupyter-widgets/controls",
          "model_module_version": "1.5.0",
          "model_name": "HBoxModel",
          "state": {
            "_dom_classes": [],
            "_model_module": "@jupyter-widgets/controls",
            "_model_module_version": "1.5.0",
            "_model_name": "HBoxModel",
            "_view_count": null,
            "_view_module": "@jupyter-widgets/controls",
            "_view_module_version": "1.5.0",
            "_view_name": "HBoxView",
            "box_style": "",
            "children": [
              "IPY_MODEL_0c05499d951a44d1a7b9d78a93934be7",
              "IPY_MODEL_35e21369ad7645e78551fcf950795f01",
              "IPY_MODEL_6789160c5bbd4d8a9673f289d40194ff"
            ],
            "layout": "IPY_MODEL_2fa76277ad174cb3b72ce349b2db552f"
          }
        },
        "bad21e364a924a2699502add8a0a8b79": {
          "model_module": "@jupyter-widgets/base",
          "model_module_version": "1.2.0",
          "model_name": "LayoutModel",
          "state": {
            "_model_module": "@jupyter-widgets/base",
            "_model_module_version": "1.2.0",
            "_model_name": "LayoutModel",
            "_view_count": null,
            "_view_module": "@jupyter-widgets/base",
            "_view_module_version": "1.2.0",
            "_view_name": "LayoutView",
            "align_content": null,
            "align_items": null,
            "align_self": null,
            "border": null,
            "bottom": null,
            "display": null,
            "flex": null,
            "flex_flow": null,
            "grid_area": null,
            "grid_auto_columns": null,
            "grid_auto_flow": null,
            "grid_auto_rows": null,
            "grid_column": null,
            "grid_gap": null,
            "grid_row": null,
            "grid_template_areas": null,
            "grid_template_columns": null,
            "grid_template_rows": null,
            "height": null,
            "justify_content": null,
            "justify_items": null,
            "left": null,
            "margin": null,
            "max_height": null,
            "max_width": null,
            "min_height": null,
            "min_width": null,
            "object_fit": null,
            "object_position": null,
            "order": null,
            "overflow": null,
            "overflow_x": null,
            "overflow_y": null,
            "padding": null,
            "right": null,
            "top": null,
            "visibility": null,
            "width": null
          }
        },
        "c0f156d0dd1c4e7b9e45e5c07df9b0b2": {
          "model_module": "@jupyter-widgets/controls",
          "model_module_version": "1.5.0",
          "model_name": "DescriptionStyleModel",
          "state": {
            "_model_module": "@jupyter-widgets/controls",
            "_model_module_version": "1.5.0",
            "_model_name": "DescriptionStyleModel",
            "_view_count": null,
            "_view_module": "@jupyter-widgets/base",
            "_view_module_version": "1.2.0",
            "_view_name": "StyleView",
            "description_width": ""
          }
        },
        "c32f36c413a24cdca75074d7c8723bee": {
          "model_module": "@jupyter-widgets/controls",
          "model_module_version": "1.5.0",
          "model_name": "HBoxModel",
          "state": {
            "_dom_classes": [],
            "_model_module": "@jupyter-widgets/controls",
            "_model_module_version": "1.5.0",
            "_model_name": "HBoxModel",
            "_view_count": null,
            "_view_module": "@jupyter-widgets/controls",
            "_view_module_version": "1.5.0",
            "_view_name": "HBoxView",
            "box_style": "",
            "children": [
              "IPY_MODEL_6b72d1d7332447c39ac4c19757f5f5e1",
              "IPY_MODEL_b0fa535df637490ba67184c2ec7a59c9",
              "IPY_MODEL_756c19045fef499e818148f8b54d65f4"
            ],
            "layout": "IPY_MODEL_555d9568134b4b428c1cdd9882baa5c4"
          }
        },
        "c5ddd330c14442e69f28ac844b15fe2d": {
          "model_module": "@jupyter-widgets/base",
          "model_module_version": "1.2.0",
          "model_name": "LayoutModel",
          "state": {
            "_model_module": "@jupyter-widgets/base",
            "_model_module_version": "1.2.0",
            "_model_name": "LayoutModel",
            "_view_count": null,
            "_view_module": "@jupyter-widgets/base",
            "_view_module_version": "1.2.0",
            "_view_name": "LayoutView",
            "align_content": null,
            "align_items": null,
            "align_self": null,
            "border": null,
            "bottom": null,
            "display": null,
            "flex": null,
            "flex_flow": null,
            "grid_area": null,
            "grid_auto_columns": null,
            "grid_auto_flow": null,
            "grid_auto_rows": null,
            "grid_column": null,
            "grid_gap": null,
            "grid_row": null,
            "grid_template_areas": null,
            "grid_template_columns": null,
            "grid_template_rows": null,
            "height": null,
            "justify_content": null,
            "justify_items": null,
            "left": null,
            "margin": null,
            "max_height": null,
            "max_width": null,
            "min_height": null,
            "min_width": null,
            "object_fit": null,
            "object_position": null,
            "order": null,
            "overflow": null,
            "overflow_x": null,
            "overflow_y": null,
            "padding": null,
            "right": null,
            "top": null,
            "visibility": null,
            "width": null
          }
        },
        "c7b38e34cb704d1998840c95210301b8": {
          "model_module": "@jupyter-widgets/base",
          "model_module_version": "1.2.0",
          "model_name": "LayoutModel",
          "state": {
            "_model_module": "@jupyter-widgets/base",
            "_model_module_version": "1.2.0",
            "_model_name": "LayoutModel",
            "_view_count": null,
            "_view_module": "@jupyter-widgets/base",
            "_view_module_version": "1.2.0",
            "_view_name": "LayoutView",
            "align_content": null,
            "align_items": null,
            "align_self": null,
            "border": null,
            "bottom": null,
            "display": null,
            "flex": null,
            "flex_flow": null,
            "grid_area": null,
            "grid_auto_columns": null,
            "grid_auto_flow": null,
            "grid_auto_rows": null,
            "grid_column": null,
            "grid_gap": null,
            "grid_row": null,
            "grid_template_areas": null,
            "grid_template_columns": null,
            "grid_template_rows": null,
            "height": null,
            "justify_content": null,
            "justify_items": null,
            "left": null,
            "margin": null,
            "max_height": null,
            "max_width": null,
            "min_height": null,
            "min_width": null,
            "object_fit": null,
            "object_position": null,
            "order": null,
            "overflow": null,
            "overflow_x": null,
            "overflow_y": null,
            "padding": null,
            "right": null,
            "top": null,
            "visibility": null,
            "width": null
          }
        },
        "c9e84da721144450b5640286a1bab4d7": {
          "model_module": "@jupyter-widgets/base",
          "model_module_version": "1.2.0",
          "model_name": "LayoutModel",
          "state": {
            "_model_module": "@jupyter-widgets/base",
            "_model_module_version": "1.2.0",
            "_model_name": "LayoutModel",
            "_view_count": null,
            "_view_module": "@jupyter-widgets/base",
            "_view_module_version": "1.2.0",
            "_view_name": "LayoutView",
            "align_content": null,
            "align_items": null,
            "align_self": null,
            "border": null,
            "bottom": null,
            "display": null,
            "flex": null,
            "flex_flow": null,
            "grid_area": null,
            "grid_auto_columns": null,
            "grid_auto_flow": null,
            "grid_auto_rows": null,
            "grid_column": null,
            "grid_gap": null,
            "grid_row": null,
            "grid_template_areas": null,
            "grid_template_columns": null,
            "grid_template_rows": null,
            "height": null,
            "justify_content": null,
            "justify_items": null,
            "left": null,
            "margin": null,
            "max_height": null,
            "max_width": null,
            "min_height": null,
            "min_width": null,
            "object_fit": null,
            "object_position": null,
            "order": null,
            "overflow": null,
            "overflow_x": null,
            "overflow_y": null,
            "padding": null,
            "right": null,
            "top": null,
            "visibility": null,
            "width": "20px"
          }
        },
        "caaf79d4d0d24d17b20806d2b65d4069": {
          "model_module": "@jupyter-widgets/base",
          "model_module_version": "1.2.0",
          "model_name": "LayoutModel",
          "state": {
            "_model_module": "@jupyter-widgets/base",
            "_model_module_version": "1.2.0",
            "_model_name": "LayoutModel",
            "_view_count": null,
            "_view_module": "@jupyter-widgets/base",
            "_view_module_version": "1.2.0",
            "_view_name": "LayoutView",
            "align_content": null,
            "align_items": null,
            "align_self": null,
            "border": null,
            "bottom": null,
            "display": null,
            "flex": null,
            "flex_flow": null,
            "grid_area": null,
            "grid_auto_columns": null,
            "grid_auto_flow": null,
            "grid_auto_rows": null,
            "grid_column": null,
            "grid_gap": null,
            "grid_row": null,
            "grid_template_areas": null,
            "grid_template_columns": null,
            "grid_template_rows": null,
            "height": null,
            "justify_content": null,
            "justify_items": null,
            "left": null,
            "margin": null,
            "max_height": null,
            "max_width": null,
            "min_height": null,
            "min_width": null,
            "object_fit": null,
            "object_position": null,
            "order": null,
            "overflow": null,
            "overflow_x": null,
            "overflow_y": null,
            "padding": null,
            "right": null,
            "top": null,
            "visibility": null,
            "width": null
          }
        },
        "d23e98ffbcc949a4b75f6064049c545a": {
          "model_module": "@jupyter-widgets/base",
          "model_module_version": "1.2.0",
          "model_name": "LayoutModel",
          "state": {
            "_model_module": "@jupyter-widgets/base",
            "_model_module_version": "1.2.0",
            "_model_name": "LayoutModel",
            "_view_count": null,
            "_view_module": "@jupyter-widgets/base",
            "_view_module_version": "1.2.0",
            "_view_name": "LayoutView",
            "align_content": null,
            "align_items": null,
            "align_self": null,
            "border": null,
            "bottom": null,
            "display": null,
            "flex": null,
            "flex_flow": null,
            "grid_area": null,
            "grid_auto_columns": null,
            "grid_auto_flow": null,
            "grid_auto_rows": null,
            "grid_column": null,
            "grid_gap": null,
            "grid_row": null,
            "grid_template_areas": null,
            "grid_template_columns": null,
            "grid_template_rows": null,
            "height": null,
            "justify_content": null,
            "justify_items": null,
            "left": null,
            "margin": null,
            "max_height": null,
            "max_width": null,
            "min_height": null,
            "min_width": null,
            "object_fit": null,
            "object_position": null,
            "order": null,
            "overflow": null,
            "overflow_x": null,
            "overflow_y": null,
            "padding": null,
            "right": null,
            "top": null,
            "visibility": null,
            "width": null
          }
        },
        "d9d89624a07348e8909a4f130e01e447": {
          "model_module": "@jupyter-widgets/controls",
          "model_module_version": "1.5.0",
          "model_name": "ProgressStyleModel",
          "state": {
            "_model_module": "@jupyter-widgets/controls",
            "_model_module_version": "1.5.0",
            "_model_name": "ProgressStyleModel",
            "_view_count": null,
            "_view_module": "@jupyter-widgets/base",
            "_view_module_version": "1.2.0",
            "_view_name": "StyleView",
            "bar_color": null,
            "description_width": ""
          }
        },
        "db2be28329a844ec8f68131d8d748617": {
          "model_module": "@jupyter-widgets/base",
          "model_module_version": "1.2.0",
          "model_name": "LayoutModel",
          "state": {
            "_model_module": "@jupyter-widgets/base",
            "_model_module_version": "1.2.0",
            "_model_name": "LayoutModel",
            "_view_count": null,
            "_view_module": "@jupyter-widgets/base",
            "_view_module_version": "1.2.0",
            "_view_name": "LayoutView",
            "align_content": null,
            "align_items": null,
            "align_self": null,
            "border": null,
            "bottom": null,
            "display": null,
            "flex": null,
            "flex_flow": null,
            "grid_area": null,
            "grid_auto_columns": null,
            "grid_auto_flow": null,
            "grid_auto_rows": null,
            "grid_column": null,
            "grid_gap": null,
            "grid_row": null,
            "grid_template_areas": null,
            "grid_template_columns": null,
            "grid_template_rows": null,
            "height": null,
            "justify_content": null,
            "justify_items": null,
            "left": null,
            "margin": null,
            "max_height": null,
            "max_width": null,
            "min_height": null,
            "min_width": null,
            "object_fit": null,
            "object_position": null,
            "order": null,
            "overflow": null,
            "overflow_x": null,
            "overflow_y": null,
            "padding": null,
            "right": null,
            "top": null,
            "visibility": null,
            "width": null
          }
        },
        "dfb7135b98db4a3b92d3f038d474cd56": {
          "model_module": "@jupyter-widgets/controls",
          "model_module_version": "1.5.0",
          "model_name": "HTMLModel",
          "state": {
            "_dom_classes": [],
            "_model_module": "@jupyter-widgets/controls",
            "_model_module_version": "1.5.0",
            "_model_name": "HTMLModel",
            "_view_count": null,
            "_view_module": "@jupyter-widgets/controls",
            "_view_module_version": "1.5.0",
            "_view_name": "HTMLView",
            "description": "",
            "description_tooltip": null,
            "layout": "IPY_MODEL_c5ddd330c14442e69f28ac844b15fe2d",
            "placeholder": "​",
            "style": "IPY_MODEL_4cf301ffbd02476a8a95f7c6c3f98fe2",
            "value": "100%"
          }
        },
        "e661ecef969343d689c5e328aa0061eb": {
          "model_module": "@jupyter-widgets/controls",
          "model_module_version": "1.5.0",
          "model_name": "HTMLModel",
          "state": {
            "_dom_classes": [],
            "_model_module": "@jupyter-widgets/controls",
            "_model_module_version": "1.5.0",
            "_model_name": "HTMLModel",
            "_view_count": null,
            "_view_module": "@jupyter-widgets/controls",
            "_view_module_version": "1.5.0",
            "_view_name": "HTMLView",
            "description": "",
            "description_tooltip": null,
            "layout": "IPY_MODEL_db2be28329a844ec8f68131d8d748617",
            "placeholder": "​",
            "style": "IPY_MODEL_7a037f34a0624f0685ded24950826e51",
            "value": " 1413/1413 [00:00&lt;00:00, 2770.10it/s]"
          }
        },
        "e72896ac39ed446f886702236f4022fb": {
          "model_module": "@jupyter-widgets/controls",
          "model_module_version": "1.5.0",
          "model_name": "DescriptionStyleModel",
          "state": {
            "_model_module": "@jupyter-widgets/controls",
            "_model_module_version": "1.5.0",
            "_model_name": "DescriptionStyleModel",
            "_view_count": null,
            "_view_module": "@jupyter-widgets/base",
            "_view_module_version": "1.2.0",
            "_view_name": "StyleView",
            "description_width": ""
          }
        },
        "e9df6a2f750544008205599c2708e210": {
          "model_module": "@jupyter-widgets/controls",
          "model_module_version": "1.5.0",
          "model_name": "HTMLModel",
          "state": {
            "_dom_classes": [],
            "_model_module": "@jupyter-widgets/controls",
            "_model_module_version": "1.5.0",
            "_model_name": "HTMLModel",
            "_view_count": null,
            "_view_module": "@jupyter-widgets/controls",
            "_view_module_version": "1.5.0",
            "_view_name": "HTMLView",
            "description": "",
            "description_tooltip": null,
            "layout": "IPY_MODEL_023bc3642f494a77856d1315dfe5ece0",
            "placeholder": "​",
            "style": "IPY_MODEL_4ec4a1b7fd4742e1ae36301f99809114",
            "value": " 1413/1413 [00:00&lt;00:00, 3245.47it/s]"
          }
        },
        "ee743d1845114c5abf578a1f71443157": {
          "model_module": "@jupyter-widgets/base",
          "model_module_version": "1.2.0",
          "model_name": "LayoutModel",
          "state": {
            "_model_module": "@jupyter-widgets/base",
            "_model_module_version": "1.2.0",
            "_model_name": "LayoutModel",
            "_view_count": null,
            "_view_module": "@jupyter-widgets/base",
            "_view_module_version": "1.2.0",
            "_view_name": "LayoutView",
            "align_content": null,
            "align_items": null,
            "align_self": null,
            "border": null,
            "bottom": null,
            "display": null,
            "flex": null,
            "flex_flow": null,
            "grid_area": null,
            "grid_auto_columns": null,
            "grid_auto_flow": null,
            "grid_auto_rows": null,
            "grid_column": null,
            "grid_gap": null,
            "grid_row": null,
            "grid_template_areas": null,
            "grid_template_columns": null,
            "grid_template_rows": null,
            "height": null,
            "justify_content": null,
            "justify_items": null,
            "left": null,
            "margin": null,
            "max_height": null,
            "max_width": null,
            "min_height": null,
            "min_width": null,
            "object_fit": null,
            "object_position": null,
            "order": null,
            "overflow": null,
            "overflow_x": null,
            "overflow_y": null,
            "padding": null,
            "right": null,
            "top": null,
            "visibility": null,
            "width": null
          }
        },
        "f351f61ea5334876b211f1b5c605e974": {
          "model_module": "@jupyter-widgets/controls",
          "model_module_version": "1.5.0",
          "model_name": "HBoxModel",
          "state": {
            "_dom_classes": [],
            "_model_module": "@jupyter-widgets/controls",
            "_model_module_version": "1.5.0",
            "_model_name": "HBoxModel",
            "_view_count": null,
            "_view_module": "@jupyter-widgets/controls",
            "_view_module_version": "1.5.0",
            "_view_name": "HBoxView",
            "box_style": "",
            "children": [
              "IPY_MODEL_dfb7135b98db4a3b92d3f038d474cd56",
              "IPY_MODEL_a86eeff805544474b2c9d6d7d94e61f7",
              "IPY_MODEL_650e250efa4e4fb48e373a98483df619"
            ],
            "layout": "IPY_MODEL_39c0b67f39624094bc1bcc65a3b60c43"
          }
        },
        "f501db68ffe74ffc987c0a1d2048f54e": {
          "model_module": "@jupyter-widgets/base",
          "model_module_version": "1.2.0",
          "model_name": "LayoutModel",
          "state": {
            "_model_module": "@jupyter-widgets/base",
            "_model_module_version": "1.2.0",
            "_model_name": "LayoutModel",
            "_view_count": null,
            "_view_module": "@jupyter-widgets/base",
            "_view_module_version": "1.2.0",
            "_view_name": "LayoutView",
            "align_content": null,
            "align_items": null,
            "align_self": null,
            "border": null,
            "bottom": null,
            "display": null,
            "flex": null,
            "flex_flow": null,
            "grid_area": null,
            "grid_auto_columns": null,
            "grid_auto_flow": null,
            "grid_auto_rows": null,
            "grid_column": null,
            "grid_gap": null,
            "grid_row": null,
            "grid_template_areas": null,
            "grid_template_columns": null,
            "grid_template_rows": null,
            "height": null,
            "justify_content": null,
            "justify_items": null,
            "left": null,
            "margin": null,
            "max_height": null,
            "max_width": null,
            "min_height": null,
            "min_width": null,
            "object_fit": null,
            "object_position": null,
            "order": null,
            "overflow": null,
            "overflow_x": null,
            "overflow_y": null,
            "padding": null,
            "right": null,
            "top": null,
            "visibility": null,
            "width": null
          }
        }
      }
    }
  },
  "nbformat": 4,
  "nbformat_minor": 0
}