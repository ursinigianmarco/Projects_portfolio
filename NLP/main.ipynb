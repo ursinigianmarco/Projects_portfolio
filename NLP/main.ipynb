{
  "cells": [
    {
      "cell_type": "code",
      "execution_count": null,
      "metadata": {
        "id": "EmelFtQ5dfWp",
        "colab": {
          "base_uri": "https://localhost:8080/"
        },
        "outputId": "37b21815-1f87-4545-bdc9-93ea5754137d"
      },
      "outputs": [
        {
          "output_type": "stream",
          "name": "stdout",
          "text": [
            "Drive already mounted at /content/drive; to attempt to forcibly remount, call drive.mount(\"/content/drive\", force_remount=True).\n"
          ]
        }
      ],
      "source": [
        "from google.colab import drive\n",
        "drive.mount('/content/drive')"
      ]
    },
    {
      "cell_type": "markdown",
      "metadata": {
        "id": "4u8bUG9nrc9y"
      },
      "source": [
        "#Load packages"
      ]
    },
    {
      "cell_type": "code",
      "execution_count": null,
      "metadata": {
        "colab": {
          "base_uri": "https://localhost:8080/"
        },
        "id": "SKQ9QTqTesNy",
        "outputId": "04d1ad55-d342-42ea-a163-684a78839bd0"
      },
      "outputs": [
        {
          "output_type": "stream",
          "name": "stdout",
          "text": [
            "[nltk_data] Downloading package stopwords to /root/nltk_data...\n",
            "[nltk_data]   Package stopwords is already up-to-date!\n",
            "[nltk_data] Downloading package punkt to /root/nltk_data...\n",
            "[nltk_data]   Package punkt is already up-to-date!\n"
          ]
        },
        {
          "output_type": "execute_result",
          "data": {
            "text/plain": [
              "True"
            ]
          },
          "metadata": {},
          "execution_count": 100
        }
      ],
      "source": [
        "import json\n",
        "import os\n",
        "import nltk\n",
        "from nltk.corpus import stopwords\n",
        "from nltk.tokenize import word_tokenize,wordpunct_tokenize\n",
        "from nltk.stem import PorterStemmer\n",
        "import tqdm\n",
        "import gensim\n",
        "from gensim.models import Word2Vec\n",
        "import gensim.downloader as api\n",
        "import numpy as np\n",
        "import matplotlib.pyplot as plt\n",
        "from torch.utils.tensorboard import SummaryWriter\n",
        "from datetime import datetime\n",
        "from collections import Counter\n",
        "import csv\n",
        "\n",
        "import torch\n",
        "from torch.utils.data import Dataset, DataLoader\n",
        "from torch import nn\n",
        "from torch.optim import SGD\n",
        "import torch.nn.functional as F\n",
        "\n",
        "nltk.download('stopwords')\n",
        "nltk.download('punkt')"
      ]
    },
    {
      "cell_type": "markdown",
      "metadata": {
        "id": "DmSN4ldErf4k"
      },
      "source": [
        "#Initialize utils"
      ]
    },
    {
      "cell_type": "code",
      "execution_count": null,
      "metadata": {
        "id": "WdexiJkumv-L"
      },
      "outputs": [],
      "source": [
        "#Set root directory\n",
        "root_dir=\"/content/drive/MyDrive/DS/2ANNO/NLP/Bonus/EX1/\"\n",
        "os.chdir(root_dir)\n",
        "\n",
        "#Load pretrained Word2Vec model\n",
        "wv = api.load('word2vec-google-news-300')\n",
        "\n",
        "#Define stopwords\n",
        "stop_words = set(stopwords.words('english'))"
      ]
    },
    {
      "cell_type": "markdown",
      "source": [
        "#EDA\n",
        "\n",
        "First things first, we perform some exploratory data analysis on top of our data to asses wheter datapoints are uniformly distributed over the 15 different classes or not. Also, code is provided to extract the probability masses of the top-k most frequent words in our trining set. As it turns out, datapoints are not uniformly spread on top of all the possible classes: because of that, we have to keep in mind that our accuracy score will just be a biased descriptor of our model performance. "
      ],
      "metadata": {
        "id": "8cYRlUPGSYkF"
      }
    },
    {
      "cell_type": "code",
      "source": [
        "def EDA(file_name,labels):\n",
        "  \n",
        "  classes_distribution=np.zeros(len(labels))\n",
        "  word_distribution={}\n",
        "\n",
        "  with open(file_name) as file:\n",
        "    #Open file to assess number of data samples\n",
        "    n_lines = sum(1 for _ in file)\n",
        "\n",
        "  with open(file_name) as file:\n",
        "    #Initialize progress bar\n",
        "    with tqdm.tqdm(total=n_lines) as pbar:\n",
        "      #Read line by line (datapoint by datapoint)\n",
        "      for line in file:\n",
        "        #Update progress bar\n",
        "        pbar.update(1)        \n",
        "        \n",
        "        #Read line in json format\n",
        "        sample=json.loads(line)\n",
        "        \n",
        "        #Word tokenike each \"text\" corpus\n",
        "        tokens=wordpunct_tokenize(sample[\"text\"])\n",
        "        \n",
        "        for word in tokens:\n",
        "            #Update word distribution\n",
        "            if word in word_distribution:\n",
        "              word_distribution[word]+=1\n",
        "            else:\n",
        "              word_distribution[word]=1  \n",
        "\n",
        "        \n",
        "        #Update classes distribution     \n",
        "        classes_distribution[labels.index(sample[\"label\"])]+=1\n",
        "\n",
        "  #Normalize classes distribution\n",
        "  classes_distribution/=n_lines\n",
        "\n",
        "  #Normalize word distribution\n",
        "  total_words=sum(word_distribution.values())\n",
        "  word_distribution = {k: v / total_words for k, v in word_distribution.items()}\n",
        "  return classes_distribution,  word_distribution,  total_words"
      ],
      "metadata": {
        "id": "mNDeoGLGSfMb"
      },
      "execution_count": null,
      "outputs": []
    },
    {
      "cell_type": "code",
      "source": [
        "#Define type of labels that can be seen\n",
        "labels=[\"business\", \"crime\", \"culture/arts\", \"education\",\n",
        "        \"entertainment\", \"environment\", \"food/drink\", \n",
        "        \"home/living\", \"media\", \"politics\", \"religion\",\n",
        "        \"sci/tech\", \"sports\", \"wellness\", \"world\"]\n",
        "\n",
        "class_distr, word_distr, total_words  = EDA(\"train.jsonl\",labels)"
      ],
      "metadata": {
        "colab": {
          "base_uri": "https://localhost:8080/"
        },
        "id": "zgP3UoPuU4wz",
        "outputId": "b349c220-6877-4ec7-d7a8-65a49d869750"
      },
      "execution_count": null,
      "outputs": [
        {
          "output_type": "stream",
          "name": "stderr",
          "text": [
            "100%|██████████| 186282/186282 [00:09<00:00, 20643.57it/s]\n"
          ]
        }
      ]
    },
    {
      "cell_type": "code",
      "source": [
        "plt.figure(figsize=(10,6), tight_layout=True)\n",
        "x=np.arange(15)\n",
        "\n",
        "# Set x-ticks for x-axis\n",
        "plt.xticks(ticks = x ,labels = labels, rotation = \"vertical\")\n",
        "plt.ylabel('$\\mathbb{P}$(C)',fontsize=14)\n",
        "\n",
        "plt.bar(x, class_distr,color=\"red\")\n",
        "plt.title('Distribution over the classes',fontsize=14)\n",
        "plt.show()"
      ],
      "metadata": {
        "colab": {
          "base_uri": "https://localhost:8080/",
          "height": 441
        },
        "id": "4mn8xKUQWnjg",
        "outputId": "83916c2a-213b-4011-a247-abc3d0fc3af7"
      },
      "execution_count": null,
      "outputs": [
        {
          "output_type": "display_data",
          "data": {
            "text/plain": [
              "<Figure size 720x432 with 1 Axes>"
            ],
            "image/png": "[encoded data removed]"
          },
          "metadata": {
            "needs_background": "light"
          }
        }
      ]
    },
    {
      "cell_type": "code",
      "source": [
        "#Retrieve distribution of top-k most fequent words\n",
        "k=200\n",
        "ordered_words = Counter(word_distr).most_common(total_words)\n",
        "\n",
        "#Extract words and probabilities\n",
        "words=[key_value[0] for key_value in ordered_words if not key_value[0] in stop_words]\n",
        "probs=[key_value[1] for key_value in ordered_words if not key_value[0] in stop_words]\n",
        "\n",
        "plt.figure(figsize=(20,6), tight_layout=True)\n",
        "\n",
        "# Set x-ticks for x-axis\n",
        "plt.xticks(ticks = np.arange(k) ,labels = words[:k], rotation = \"vertical\",fontsize=8)\n",
        "plt.ylabel('$\\mathbb{P}$(word)',fontsize=14)\n",
        "\n",
        "plt.bar(np.arange(k), probs[:k],color=\"red\")\n",
        "plt.title('PMF of top-{} words'.format(k),fontsize=14)\n",
        "plt.show()"
      ],
      "metadata": {
        "colab": {
          "base_uri": "https://localhost:8080/",
          "height": 347
        },
        "id": "SUUsPuXWzSqR",
        "outputId": "176395a5-f37e-40fe-e7bb-64bc080f635b"
      },
      "execution_count": null,
      "outputs": [
        {
          "output_type": "display_data",
          "data": {
            "text/plain": [
              "<Figure size 1440x432 with 1 Axes>"
            ],
            "image/png": "[encoded data removed]"
          },
          "metadata": {
            "needs_background": "light"
          }
        }
      ]
    },
    {
      "cell_type": "markdown",
      "metadata": {
        "id": "ZmDU0B9frij4"
      },
      "source": [
        "#Read data and preprocess text (Lowering, stopwords/punctuation removal, features word2vec embedding)\n",
        "\n",
        "After the EDA, we want to tackle the true preprocessing step. Each text corpus (for each datapoint) is word-tokenized: each word-token is lowered and removed if belonging to punctuation set or nltk.stop_words set and finally embedded in $\\mathbb{R}^{300}$ by a pretrained word2vec model.  "
      ]
    },
    {
      "cell_type": "code",
      "execution_count": null,
      "metadata": {
        "id": "iNFzvkFTnDdz"
      },
      "outputs": [],
      "source": [
        "def load_preprocess_embed_onehot_data(file_name,labels):\n",
        "  print(\"\\nLoading and preprocessing '{}'..\".format(file_name))\n",
        "  with open(file_name) as file:\n",
        "    #Open file to assess number of data samples\n",
        "    n_lines = sum(1 for _ in file)\n",
        "\n",
        "  with open(file_name) as file:\n",
        "    #Initialize progress bar\n",
        "    with tqdm.tqdm(total=n_lines) as pbar:\n",
        "      data = []\n",
        "      #Read line by line (datapoint by datapoint)\n",
        "      for line in file:\n",
        "        #Update progress bar\n",
        "        pbar.update(1)        \n",
        "        \n",
        "        #Read line in json format\n",
        "        sample=json.loads(line)\n",
        "        \n",
        "        #Word tokenike each \"text\" corpus\n",
        "        tokens=wordpunct_tokenize(sample[\"text\"])\n",
        "        \n",
        "        #Preprocess each corpus\n",
        "        sample[\"text\"]=[w.lower() for w in tokens if not w.lower() in stop_words if w.isalpha()]\n",
        "\n",
        "        #Embed each of the word in the text corpus and add to the general embedding for \"text\".\n",
        "        #The try/except deal with all the words that can't be found by the pretrained word2vec model\n",
        "        text_embedding=0\n",
        "        for word in sample[\"text\"]:\n",
        "            try:\n",
        "              word_embedding=wv[word]\n",
        "              text_embedding+=wv[word]\n",
        "            except:\n",
        "              pass\n",
        "        sample[\"text\"]=text_embedding\n",
        "\n",
        "        #Numerical encode the labels     \n",
        "        if \"label\" in sample:\n",
        "          sample[\"label\"]=labels.index(sample[\"label\"])\n",
        "        data.append(sample)\n",
        "  return data"
      ]
    },
    {
      "cell_type": "code",
      "execution_count": null,
      "metadata": {
        "id": "UN8UjorHlk3x",
        "colab": {
          "base_uri": "https://localhost:8080/"
        },
        "outputId": "64307b38-f355-4c5c-c102-af4462797cfe"
      },
      "outputs": [
        {
          "output_type": "stream",
          "name": "stdout",
          "text": [
            "\n",
            "Loading and preprocessing 'train.jsonl'..\n"
          ]
        },
        {
          "output_type": "stream",
          "name": "stderr",
          "text": [
            "100%|██████████| 186282/186282 [00:47<00:00, 3904.26it/s]\n"
          ]
        },
        {
          "output_type": "stream",
          "name": "stdout",
          "text": [
            "\n",
            "Loading and preprocessing 'test.jsonl'..\n"
          ]
        },
        {
          "output_type": "stream",
          "name": "stderr",
          "text": [
            "100%|██████████| 6849/6849 [00:01<00:00, 4342.16it/s]\n"
          ]
        },
        {
          "output_type": "stream",
          "name": "stdout",
          "text": [
            "\n",
            "Loading and preprocessing 'dev.jsonl'..\n"
          ]
        },
        {
          "output_type": "stream",
          "name": "stderr",
          "text": [
            "100%|██████████| 6844/6844 [00:01<00:00, 3713.21it/s]\n"
          ]
        }
      ],
      "source": [
        "#Load all the data. Preprocessing, embedding and numerical encoding of the labels is performed\n",
        "train_data  = load_preprocess_embed_onehot_data(\"train.jsonl\",labels)\n",
        "test_data   = load_preprocess_embed_onehot_data(\"test.jsonl\",labels)\n",
        "val_data    = load_preprocess_embed_onehot_data(\"dev.jsonl\",labels)"
      ]
    },
    {
      "cell_type": "code",
      "execution_count": null,
      "metadata": {
        "id": "lOBYAG2wswtR",
        "colab": {
          "base_uri": "https://localhost:8080/"
        },
        "outputId": "5e2b5c7f-5ce3-4d61-80f7-eddf6bc3727c"
      },
      "outputs": [
        {
          "output_type": "stream",
          "name": "stdout",
          "text": [
            "{'text': array([-0.19128418,  1.2373962 , -0.96139526,  0.7142029 , -0.9695587 ,\n",
            "       -1.4402466 ,  0.74365234, -1.8470459 ,  1.4620876 ,  1.1494141 ,\n",
            "       -1.4512253 , -2.1062012 , -0.97021484,  1.0907607 , -4.3477173 ,\n",
            "        1.406311  ,  0.8886719 ,  2.270996  , -0.9661865 , -0.21054077,\n",
            "       -2.0185547 ,  1.548523  ,  1.6785736 ,  0.8260689 ,  1.3491821 ,\n",
            "       -1.258667  , -2.308838  ,  1.3684082 , -2.1677094 ,  0.7460327 ,\n",
            "        0.43136597, -0.06430817, -2.2913055 ,  0.6234436 ,  0.2859497 ,\n",
            "       -0.14428711,  0.4126892 ,  1.0039673 ,  1.8383789 ,  0.454422  ,\n",
            "        1.6264343 , -1.2329712 ,  1.7687988 , -1.0243225 , -0.66264343,\n",
            "       -2.8876953 , -1.1567078 ,  0.7139282 ,  0.1149292 ,  1.0991211 ,\n",
            "       -0.8605957 ,  0.20495605, -0.12664795, -0.2870636 ,  0.26976013,\n",
            "        1.7861328 , -1.3252258 , -1.720581  ,  0.6851196 , -1.6090572 ,\n",
            "        0.7916031 ,  2.3145142 , -1.7306366 ,  0.28045654, -0.9680176 ,\n",
            "       -0.04250813, -0.88116455, -0.04663086,  0.52928925,  1.0417175 ,\n",
            "        2.2831116 , -0.6039734 ,  0.9342804 ,  0.6564331 , -2.4488525 ,\n",
            "       -0.9825134 ,  0.5363159 ,  2.5139694 , -0.3182068 ,  2.2009811 ,\n",
            "        1.8085327 , -0.7798462 ,  1.2561035 ,  1.1804123 ,  0.94000244,\n",
            "       -0.8885498 , -1.6729126 ,  1.9285889 ,  0.7993469 ,  0.5277405 ,\n",
            "        2.3129025 ,  0.32751465, -0.5924244 , -1.49469   , -1.2938232 ,\n",
            "       -1.2888184 , -0.25732422,  1.2345886 ,  0.50787354, -0.12280273,\n",
            "       -0.47343445, -1.6148682 ,  0.44429016,  0.42099   ,  0.5645752 ,\n",
            "       -1.0659714 , -0.7041626 , -0.16520691,  0.21582985, -0.48939514,\n",
            "       -0.42993164, -0.15258789, -1.1148682 , -0.98217773,  1.850296  ,\n",
            "        0.08547974,  0.35565186, -0.41955566,  3.8659267 , -0.07241821,\n",
            "        0.08544922,  1.17099   , -1.6298828 ,  1.93927   , -0.1296997 ,\n",
            "       -2.1954956 , -0.5793457 , -0.0887146 ,  1.111084  ,  1.5987549 ,\n",
            "       -0.24081421, -0.47919083, -0.6966448 ,  0.44256592, -0.856369  ,\n",
            "        0.63183594, -0.31030273,  0.04492188,  0.03948975,  3.2087402 ,\n",
            "        1.9403076 , -3.6878662 , -1.8361454 , -0.6140137 ,  1.682312  ,\n",
            "        1.5832367 , -0.06427002, -2.2569962 ,  0.6632385 , -1.6611328 ,\n",
            "        1.0498657 , -0.24584961, -1.1543198 ,  1.3631592 , -1.2646484 ,\n",
            "        0.2063713 , -0.6593933 , -0.03466797, -1.8356361 ,  0.11621094,\n",
            "       -0.33825684, -0.10583496,  0.83979034, -0.7982483 , -0.39562988,\n",
            "       -1.4770432 ,  0.5623779 , -2.2687378 ,  0.20605469, -1.260376  ,\n",
            "       -1.7124481 , -0.654541  ,  1.3469849 , -1.5703735 ,  0.6320801 ,\n",
            "       -0.9839096 ,  2.3540344 , -2.604126  , -0.7824173 ,  0.5377922 ,\n",
            "       -1.8341064 , -1.899353  ,  0.4206848 , -1.6765137 , -0.64801025,\n",
            "       -2.3190918 , -0.38427734,  1.182312  ,  1.7275009 ,  1.0443878 ,\n",
            "        0.11634064,  0.5246582 , -1.0674744 , -0.24804688, -1.2191162 ,\n",
            "       -0.7296448 , -0.3324585 , -0.2886963 ,  0.31018066, -2.5369873 ,\n",
            "       -1.0817566 ,  2.524292  ,  1.8443298 , -0.38102722, -0.22216797,\n",
            "        0.5020933 ,  0.4753723 , -0.33081055, -0.49938965,  0.4882202 ,\n",
            "        0.99427795,  0.33512878,  0.01940918,  2.468628  ,  0.1308899 ,\n",
            "        1.9350281 ,  1.6487427 , -1.5726318 , -0.20172119,  0.06854248,\n",
            "        0.5942383 ,  0.5263672 , -0.59121704,  2.5970154 ,  1.1002502 ,\n",
            "       -1.1160355 ,  0.77471924, -0.61898804,  0.86637115, -0.4597168 ,\n",
            "        0.06628418, -0.9495239 , -1.2035828 ,  2.022705  ,  0.7441406 ,\n",
            "        0.7369995 ,  1.5909424 , -2.9455566 ,  0.5444336 , -0.5593567 ,\n",
            "        0.22316742,  0.52282715, -0.25439453, -0.3300171 ,  1.7192383 ,\n",
            "        0.23244476, -0.19647217, -0.1653614 ,  1.4968872 , -2.4908943 ,\n",
            "       -0.8701172 ,  0.75341797,  0.8657532 ,  0.5079346 ,  1.3273621 ,\n",
            "        0.7679062 ,  0.35617065,  0.2778015 , -1.493103  ,  0.51916504,\n",
            "       -0.72327805, -1.239563  ,  1.3267307 ,  0.49169922,  0.87786865,\n",
            "        1.1308479 , -1.5419312 , -0.56066895, -1.4499817 ,  0.38941574,\n",
            "        0.15719604,  1.4483337 ,  2.8448486 , -0.7972717 , -0.5335922 ,\n",
            "       -0.48205566, -1.417572  , -0.4331665 , -1.9569702 ,  0.9965973 ,\n",
            "       -1.5045776 ,  0.08648682,  0.9641342 ,  1.008461  ,  1.6239929 ,\n",
            "        2.5888062 , -1.838623  , -0.380188  ,  1.6469727 , -0.9657593 ,\n",
            "       -1.9414062 ,  0.16900635, -1.6573486 ,  1.3637695 , -1.6051178 ,\n",
            "       -1.0218506 ,  2.0363007 ,  0.44055176,  1.1551208 , -0.38698578],\n",
            "      dtype=float32), 'label': 0, 'id': 135951} {'text': array([-8.2330322e-01,  1.1529160e+00,  7.2908020e-01,  2.5348816e+00,\n",
            "       -2.8780508e+00, -1.3611450e+00,  5.3768921e-01, -2.4285278e+00,\n",
            "        2.5885162e+00,  1.0360107e+00, -2.6800079e+00, -3.3982544e+00,\n",
            "       -4.5708008e+00,  1.3892612e+00, -1.5472412e+00,  4.1097107e+00,\n",
            "        2.5959167e+00,  4.2931213e+00,  1.1773758e+00, -2.6087646e+00,\n",
            "        1.1997223e+00,  2.4342194e+00,  3.3807373e+00,  9.3048096e-01,\n",
            "       -2.3291931e+00, -7.5756836e-01, -3.3671265e+00,  4.0361938e+00,\n",
            "        2.8727112e+00,  9.4373512e-01,  1.4239502e+00,  1.6660156e+00,\n",
            "       -3.3687134e+00,  9.7351074e-02,  4.5660400e-01, -3.4144592e-01,\n",
            "        4.2358398e-01,  4.0616550e+00,  8.8533020e-01,  2.0938721e+00,\n",
            "        2.8724976e+00, -3.3413696e+00,  6.3728790e+00,  3.7919235e-01,\n",
            "       -3.2868958e+00, -1.9430237e+00,  2.2750854e-01,  6.9876862e-01,\n",
            "       -1.8604736e+00,  4.0172806e+00, -1.4641113e+00, -3.8208008e-02,\n",
            "        1.7984619e+00, -4.8287964e-01, -1.4990234e+00, -5.0018311e-02,\n",
            "       -3.4744415e+00, -3.7796173e+00,  1.6409912e+00, -3.2802439e+00,\n",
            "        8.5693359e-02,  1.2620239e+00, -4.1873779e+00, -9.7291565e-01,\n",
            "       -7.4878311e-01, -1.7246628e+00, -2.7756042e+00,  3.0098877e+00,\n",
            "        5.8276367e-01,  3.0546875e+00,  2.0089569e+00,  3.2645264e+00,\n",
            "        3.7121429e+00,  3.9331055e-01, -3.7191162e+00, -1.3324661e+00,\n",
            "        1.4079590e+00,  8.9331055e-01,  7.2393799e-01,  9.4287109e-01,\n",
            "       -1.0886841e+00, -1.0318604e+00,  9.7821045e-01, -1.9465332e+00,\n",
            "        1.2499390e+00, -1.0423584e+00, -1.4728241e+00,  1.8924408e+00,\n",
            "        6.5244293e-01,  1.4201660e+00,  3.9999390e+00, -1.4778748e+00,\n",
            "       -1.9593201e+00, -8.6059570e-02, -5.3991318e-01, -1.3541756e+00,\n",
            "        4.0921021e-01, -1.2664795e-02,  4.1276245e+00,  2.0062256e-01,\n",
            "       -1.7426453e+00, -2.4057007e+00,  2.7518311e+00,  1.3944244e+00,\n",
            "        8.3054352e-01,  5.7296753e-02, -2.0029449e+00, -1.2077942e+00,\n",
            "        1.1293945e+00, -2.8170586e+00, -2.3217316e+00, -2.8106079e+00,\n",
            "       -2.4568787e+00,  1.7321014e+00,  3.5269165e+00, -1.4421082e+00,\n",
            "       -1.3472290e+00, -1.2416458e+00,  2.5503540e+00,  1.2037048e+00,\n",
            "        3.3851242e-01,  1.4760742e+00, -4.9373627e-01,  4.4079590e-01,\n",
            "       -5.2722168e-01, -1.1281738e+00, -4.6253967e-01,  5.2943420e-01,\n",
            "        1.4527588e+00, -1.0570831e+00, -1.0083618e+00, -2.9586563e+00,\n",
            "       -1.9193268e+00,  1.8166809e+00, -1.7754517e+00,  3.0517578e-03,\n",
            "       -2.0861034e+00,  1.2851562e+00,  1.4226685e+00,  2.3330078e+00,\n",
            "        3.3344116e+00, -7.3959351e-01, -7.1524048e-01,  5.7470703e-01,\n",
            "        2.7983398e+00, -7.3944092e-02, -1.3215332e+00, -2.9637756e+00,\n",
            "        2.3498535e-03, -1.5715942e+00,  5.4719238e+00, -1.8642578e+00,\n",
            "       -1.5592194e+00,  6.2756348e-01,  1.0539551e+00, -2.9349060e+00,\n",
            "       -1.5181885e+00, -1.8141861e+00, -2.0164795e+00, -8.8766479e-01,\n",
            "       -2.5915985e+00,  2.9259033e+00,  3.4201126e+00,  6.5158081e-01,\n",
            "        6.3342285e-01, -3.1838379e+00,  2.9207458e+00, -2.8984833e-01,\n",
            "        1.8795166e+00,  1.0531006e+00, -2.2867889e+00, -1.4081421e+00,\n",
            "        9.4802856e-02, -2.7458496e+00, -3.3682251e-01, -1.2591553e+00,\n",
            "        2.0942993e+00, -2.0065689e+00,  6.2651825e-01, -1.9848633e+00,\n",
            "       -2.1507568e+00, -1.1875000e+00, -1.4246597e+00, -1.8760223e+00,\n",
            "        2.6866455e+00,  8.1323242e-01, -1.5328674e+00, -4.2083740e-02,\n",
            "        2.3037872e+00,  3.3358154e+00,  1.5881195e+00,  2.2120972e+00,\n",
            "       -1.6342773e+00,  2.0866699e+00,  1.0360756e+00,  1.4814758e+00,\n",
            "       -7.2741699e-01,  2.0450745e+00, -8.1518555e-01, -5.9814453e-02,\n",
            "       -1.9410400e+00,  3.8636475e+00,  2.1746674e+00, -3.1170502e+00,\n",
            "        2.4132538e-01, -7.5665283e-01,  3.2272263e+00, -3.4640503e-01,\n",
            "        2.2821045e-01, -5.0810242e-01, -1.1532974e+00,  1.5412292e+00,\n",
            "       -2.8661346e+00, -8.3190918e-01, -2.6773071e+00,  5.6491852e-01,\n",
            "        2.5774231e+00, -2.1395645e+00, -2.3760986e+00,  9.5227051e-01,\n",
            "       -1.0287170e+00, -8.0407715e-01,  1.1376953e-01, -9.2242432e-01,\n",
            "        9.8411560e-01,  7.3904419e-01,  2.0553894e+00,  6.1196899e+00,\n",
            "        2.7726746e+00,  2.4932861e-02,  1.7843323e+00, -7.1295929e-01,\n",
            "       -9.9063492e-01, -1.2531738e+00,  1.3484802e+00,  2.5491333e-01,\n",
            "        2.0016479e+00, -1.7944298e+00,  4.2926636e+00,  4.7235107e-01,\n",
            "        3.4293518e+00, -4.7534180e-01,  2.0367432e-01,  6.8855286e-02,\n",
            "        1.5721436e+00,  3.3627319e-01, -1.9519043e-01,  4.0945587e+00,\n",
            "        1.2104492e+00,  6.3781738e-03, -2.7005920e+00,  1.7850342e+00,\n",
            "       -4.1333008e-01,  2.9130402e+00,  2.0110474e+00, -1.0452881e+00,\n",
            "        1.4329224e+00,  2.1883545e+00,  1.6870880e+00, -1.5826721e+00,\n",
            "       -8.0633545e-01, -2.6229858e-02, -2.1057129e-03,  1.2294769e+00,\n",
            "       -1.0933228e+00,  3.3171997e+00, -1.7384033e+00, -7.0800781e-01,\n",
            "       -3.9249268e+00, -1.6257172e+00, -2.3828125e-01,  1.1043091e+00,\n",
            "        1.3789062e+00, -1.3410339e+00,  1.1229858e+00, -2.0201263e+00,\n",
            "        1.4683838e+00, -2.6912384e+00, -2.6778870e+00,  2.8486938e+00,\n",
            "        5.1748657e-01,  8.8793945e-01, -9.8687744e-01,  3.8956718e+00,\n",
            "       -8.0929565e-01, -2.5451660e+00, -2.4491882e+00,  2.1593323e+00,\n",
            "        3.2195435e+00,  2.3079071e+00, -9.9372101e-01,  4.0081787e-01,\n",
            "       -1.8106079e+00, -2.0158386e-01, -4.2724609e-03, -2.7708740e+00,\n",
            "       -3.6657715e-01, -3.9109497e+00,  4.1564941e-01,  1.4646301e+00],\n",
            "      dtype=float32), 'id': 83900}\n"
          ]
        }
      ],
      "source": [
        "# Print an example of training and test datapoints\n",
        "print(train_data[0],test_data[0])"
      ]
    },
    {
      "cell_type": "code",
      "execution_count": null,
      "metadata": {
        "id": "vqDF1oweKhvR"
      },
      "outputs": [],
      "source": [
        "class SentencesDataset(Dataset):\n",
        "\n",
        "    \"\"\"Face Landmarks dataset.\"\"\"\n",
        "    def __init__(self, data):\n",
        "        self.data = data\n",
        "                        \n",
        "    def __len__(self):\n",
        "        return len(self.data)\n",
        "\n",
        "    def __getitem__(self, idx):\n",
        "        embedding = torch.tensor(self.data[idx][\"text\"])\n",
        "        id        = self.data[idx][\"id\"]\n",
        "        # Since the test set doesn't contain labels,\n",
        "        # Assign a fake label to each test set datapoint\n",
        "        try:\n",
        "          label   = self.data[idx][\"label\"]\n",
        "        except:\n",
        "          label   = torch.tensor([99])\n",
        "\n",
        "        return embedding,label,id"
      ]
    },
    {
      "cell_type": "code",
      "source": [
        "#Define the datasets\n",
        "train_dataset = SentencesDataset(train_data)\n",
        "val_dataset   = SentencesDataset(val_data)\n",
        "test_dataset  = SentencesDataset(test_data)\n",
        "\n",
        "#Define batch size\n",
        "BATCH_SIZE=32\n",
        "\n",
        "#Define the dataloaders\n",
        "train_dataloader = DataLoader(train_dataset, batch_size=BATCH_SIZE)\n",
        "val_dataloader   = DataLoader(val_dataset,batch_size=1)\n",
        "test_dataloader  = DataLoader(test_dataset, batch_size=1)"
      ],
      "metadata": {
        "id": "ZOroLdEi9U7a"
      },
      "execution_count": null,
      "outputs": []
    },
    {
      "cell_type": "markdown",
      "source": [
        "#Build the model\n",
        "\n",
        "The implemented model is a simple 2 layer neural network: it has 300 (equal to the dimension of the word2vec embeddings) input neurons, 100 hidden neurons and 15 (equal to the number of distinct classes) output neurons. ReLu activation function has been used between the first and the second fully connected layer.\n",
        "\n",
        "By the inner nature of the problem, CrossEntropy is the chosen loss. Instead of the usual SGD optimizer, I decided to exploit the Adam optimizer."
      ],
      "metadata": {
        "id": "fiC0gQmY9X4K"
      }
    },
    {
      "cell_type": "code",
      "source": [
        "# Define a class to build a simple 2 layer neural network. #features, #hidden neurons\n",
        "# and #classes are fed once initializing the instance of the class.\n",
        "\n",
        "class TwoLayerClassifier(nn.Module):\n",
        "    def __init__(self, n_features, n_hidden, n_classes):\n",
        "        super(TwoLayerClassifier, self).__init__()\n",
        "        self.fc1 = nn.Linear(n_features, n_hidden)\n",
        "        self.fc2 = nn.Linear(n_hidden, n_hidden)\n",
        "\n",
        "    def forward(self, x):\n",
        "        \n",
        "        x = F.relu(self.fc1(x))\n",
        "        logit = self.fc2(x)\n",
        "        \n",
        "        return logit"
      ],
      "metadata": {
        "id": "08C1ODWNP3KO"
      },
      "execution_count": null,
      "outputs": []
    },
    {
      "cell_type": "code",
      "source": [
        "# The pretrained word2vec produces embeddings in R^300\n",
        "n_features=300\n",
        "\n",
        "# Define number of hidden neurons and classes\n",
        "n_hidden=100\n",
        "n_classes=len(labels)\n",
        "\n",
        "# Initialize the instance of the model\n",
        "model = TwoLayerClassifier(n_features,n_hidden,n_classes)\n",
        "\n",
        "# Initialize the optimizer\n",
        "optimizer = torch.optim.Adam(model.parameters(), lr=0.0001)\n",
        "\n",
        "# Define the loss function\n",
        "loss_fn = torch.nn.CrossEntropyLoss()"
      ],
      "metadata": {
        "id": "AdU3aihl21Ae"
      },
      "execution_count": null,
      "outputs": []
    },
    {
      "cell_type": "code",
      "source": [
        "# Build per-epoch training loop. Both the train_one_epoch() and the training \n",
        "# loop have been inspired by the official documentation of torch package.\n",
        " \n",
        "def train_one_epoch(epoch_index):\n",
        "    running_loss = 0.\n",
        "    last_loss = 0.\n",
        "\n",
        "    # For all the batches in our train dataloader:\n",
        "    for i, data in enumerate(train_dataloader):\n",
        "        # Every data batch contains features+labels+id\n",
        "        features, labels ,id = data\n",
        "\n",
        "        # Initialize gradients for each batch\n",
        "        optimizer.zero_grad()\n",
        "\n",
        "        # Make predictions over the batch batch\n",
        "        outputs = model(features)\n",
        "\n",
        "        # Compute CE loss and gradients\n",
        "        loss = loss_fn(outputs, labels)\n",
        "        loss.backward()\n",
        "\n",
        "        # Execute update of the weights\n",
        "        optimizer.step()\n",
        "\n",
        "        # Print per-batch loss\n",
        "        running_loss += loss.item()\n",
        "        if i % 1000 == 999:\n",
        "            last_loss = running_loss / 1000 # loss per batch\n",
        "            print('  batch {} loss: {}'.format(i + 1, last_loss))\n",
        "            running_loss = 0.\n",
        "\n",
        "    return last_loss"
      ],
      "metadata": {
        "id": "HMLfjR4QRsx1"
      },
      "execution_count": null,
      "outputs": []
    },
    {
      "cell_type": "code",
      "source": [
        "# Build the training loop. Both the train_one_epoch() and the training \n",
        "# loop have been inspired by the official documentation of torch package.\n",
        "\n",
        "EPOCHS = 30\n",
        "\n",
        "# Initialize 2 empty lists to store training and \n",
        "# validations losses during training phase\n",
        "train_loss=[]\n",
        "val_loss=[]\n",
        "\n",
        "best_val_loss = 1_000_000.\n",
        "\n",
        "for epoch in range(EPOCHS):\n",
        "    print('EPOCH {}:'.format(epoch + 1))\n",
        "\n",
        "    # Keep gradients on while performing the training step\n",
        "    model.train(True)\n",
        "    avg_loss = train_one_epoch(epoch)\n",
        "    \n",
        "    # Switch off gradients to assess performance over the validation set\n",
        "    model.train(False)\n",
        "\n",
        "    running_val_loss = 0.0\n",
        "    for i, val_data in enumerate(val_dataloader):\n",
        "        # Every val_data batch contains features+labels+id\n",
        "        val_features, val_labels, val_id = val_data\n",
        "        # Compute model's outputs\n",
        "        val_outputs = model(val_features)\n",
        "        # Compute loss function value\n",
        "        vloss = loss_fn(val_outputs, val_labels)\n",
        "        running_val_loss += vloss\n",
        "\n",
        "    avg_val_loss = running_val_loss / (i + 1)\n",
        "    print('LOSS train {} valid {}'.format(avg_loss, avg_val_loss))\n",
        "\n",
        "    train_loss.append(avg_loss)\n",
        "    val_loss.append(avg_val_loss.item())\n",
        "    \n",
        "    # Track best performance, and save the model's state\n",
        "    if avg_val_loss < best_val_loss:\n",
        "        best_val_loss = avg_val_loss\n",
        "        model_path = 'best_val_model'\n",
        "        torch.save(model.state_dict(), model_path)"
      ],
      "metadata": {
        "id": "kb02HWsvR36n",
        "colab": {
          "base_uri": "https://localhost:8080/"
        },
        "outputId": "ef9b8a4d-68dc-41fa-fac0-caab754c6277"
      },
      "execution_count": null,
      "outputs": [
        {
          "output_type": "stream",
          "name": "stdout",
          "text": [
            "EPOCH 1:\n",
            "  batch 1000 loss: 1.394202490746975\n",
            "  batch 2000 loss: 0.8794220304489135\n",
            "  batch 3000 loss: 0.8094229532629251\n",
            "  batch 4000 loss: 0.7941064953207969\n",
            "  batch 5000 loss: 0.7756479449868202\n",
            "LOSS train 0.7756479449868202 valid 0.9071632027626038\n",
            "EPOCH 2:\n",
            "  batch 1000 loss: 0.7318552647680044\n",
            "  batch 2000 loss: 0.7343400476276875\n",
            "  batch 3000 loss: 0.7191306190341711\n",
            "  batch 4000 loss: 0.7271574143767356\n",
            "  batch 5000 loss: 0.7202862566411495\n",
            "LOSS train 0.7202862566411495 valid 0.8700330257415771\n",
            "EPOCH 3:\n",
            "  batch 1000 loss: 0.6882764758616686\n",
            "  batch 2000 loss: 0.6940821071863175\n",
            "  batch 3000 loss: 0.683921553760767\n",
            "  batch 4000 loss: 0.6949773454219103\n",
            "  batch 5000 loss: 0.6898700620532036\n",
            "LOSS train 0.6898700620532036 valid 0.8467699289321899\n",
            "EPOCH 4:\n",
            "  batch 1000 loss: 0.6614734501242637\n",
            "  batch 2000 loss: 0.667768898576498\n",
            "  batch 3000 loss: 0.6604168802648783\n",
            "  batch 4000 loss: 0.6728715428709984\n",
            "  batch 5000 loss: 0.6674821377396584\n",
            "LOSS train 0.6674821377396584 valid 0.8300608396530151\n",
            "EPOCH 5:\n",
            "  batch 1000 loss: 0.6422506710141898\n",
            "  batch 2000 loss: 0.6486495677232742\n",
            "  batch 3000 loss: 0.6429267825037241\n",
            "  batch 4000 loss: 0.6560362577885389\n",
            "  batch 5000 loss: 0.6504900125265122\n",
            "LOSS train 0.6504900125265122 valid 0.8183286786079407\n",
            "EPOCH 6:\n",
            "  batch 1000 loss: 0.6270596113055944\n",
            "  batch 2000 loss: 0.6338316262364387\n",
            "  batch 3000 loss: 0.6289148816764355\n",
            "  batch 4000 loss: 0.6427444094717503\n",
            "  batch 5000 loss: 0.6368991214632987\n",
            "LOSS train 0.6368991214632987 valid 0.810775876045227\n",
            "EPOCH 7:\n",
            "  batch 1000 loss: 0.6149502572268247\n",
            "  batch 2000 loss: 0.6219468138515949\n",
            "  batch 3000 loss: 0.6176791579276323\n",
            "  batch 4000 loss: 0.6319757996499539\n",
            "  batch 5000 loss: 0.6258725959658623\n",
            "LOSS train 0.6258725959658623 valid 0.8044129610061646\n",
            "EPOCH 8:\n",
            "  batch 1000 loss: 0.6049177224934101\n",
            "  batch 2000 loss: 0.6120534667670727\n",
            "  batch 3000 loss: 0.6081571867763996\n",
            "  batch 4000 loss: 0.6228858051896096\n",
            "  batch 5000 loss: 0.6165543763488531\n",
            "LOSS train 0.6165543763488531 valid 0.7993742227554321\n",
            "EPOCH 9:\n",
            "  batch 1000 loss: 0.5966063836663962\n",
            "  batch 2000 loss: 0.603523595303297\n",
            "  batch 3000 loss: 0.6000578480213881\n",
            "  batch 4000 loss: 0.6150665194690228\n",
            "  batch 5000 loss: 0.6087044124156237\n",
            "LOSS train 0.6087044124156237 valid 0.7958346009254456\n",
            "EPOCH 10:\n",
            "  batch 1000 loss: 0.5890607372224331\n",
            "  batch 2000 loss: 0.5961180369555951\n",
            "  batch 3000 loss: 0.5929386219680309\n",
            "  batch 4000 loss: 0.6080323311686516\n",
            "  batch 5000 loss: 0.6018715286105871\n",
            "LOSS train 0.6018715286105871 valid 0.792140007019043\n",
            "EPOCH 11:\n",
            "  batch 1000 loss: 0.5824623404443264\n",
            "  batch 2000 loss: 0.5895095725208521\n",
            "  batch 3000 loss: 0.5867173543572426\n",
            "  batch 4000 loss: 0.601729707121849\n",
            "  batch 5000 loss: 0.5957077382057905\n",
            "LOSS train 0.5957077382057905 valid 0.7886800169944763\n",
            "EPOCH 12:\n",
            "  batch 1000 loss: 0.5764365267157555\n",
            "  batch 2000 loss: 0.5836726422011852\n",
            "  batch 3000 loss: 0.5808186553567648\n",
            "  batch 4000 loss: 0.5960680179595947\n",
            "  batch 5000 loss: 0.5900349599272012\n",
            "LOSS train 0.5900349599272012 valid 0.7858061194419861\n",
            "EPOCH 13:\n",
            "  batch 1000 loss: 0.5708745143711567\n",
            "  batch 2000 loss: 0.5782091558426619\n",
            "  batch 3000 loss: 0.5754965999126435\n",
            "  batch 4000 loss: 0.5907316171228886\n",
            "  batch 5000 loss: 0.5848337316215039\n",
            "LOSS train 0.5848337316215039 valid 0.7831364274024963\n",
            "EPOCH 14:\n",
            "  batch 1000 loss: 0.5657572855055332\n",
            "  batch 2000 loss: 0.5732157589793205\n",
            "  batch 3000 loss: 0.5706781876534224\n",
            "  batch 4000 loss: 0.5857283379137516\n",
            "  batch 5000 loss: 0.5799208033382892\n",
            "LOSS train 0.5799208033382892 valid 0.7815702557563782\n",
            "EPOCH 15:\n",
            "  batch 1000 loss: 0.5610520320534707\n",
            "  batch 2000 loss: 0.5686097751259804\n",
            "  batch 3000 loss: 0.5661127675920725\n",
            "  batch 4000 loss: 0.581069086521864\n",
            "  batch 5000 loss: 0.5753344370424748\n",
            "LOSS train 0.5753344370424748 valid 0.7790883779525757\n",
            "EPOCH 16:\n",
            "  batch 1000 loss: 0.5565229544043541\n",
            "  batch 2000 loss: 0.5641973688155413\n",
            "  batch 3000 loss: 0.5617047467827797\n",
            "  batch 4000 loss: 0.5767137855887413\n",
            "  batch 5000 loss: 0.5709401567876339\n",
            "LOSS train 0.5709401567876339 valid 0.7786567211151123\n",
            "EPOCH 17:\n",
            "  batch 1000 loss: 0.5522138674557209\n",
            "  batch 2000 loss: 0.5600457153171301\n",
            "  batch 3000 loss: 0.5575896063894034\n",
            "  batch 4000 loss: 0.5725037930458784\n",
            "  batch 5000 loss: 0.5669361399114132\n",
            "LOSS train 0.5669361399114132 valid 0.7774763703346252\n",
            "EPOCH 18:\n",
            "  batch 1000 loss: 0.5483264667242765\n",
            "  batch 2000 loss: 0.5561409968286752\n",
            "  batch 3000 loss: 0.5534077612906695\n",
            "  batch 4000 loss: 0.5686909586787224\n",
            "  batch 5000 loss: 0.5632562465816736\n",
            "LOSS train 0.5632562465816736 valid 0.7766047716140747\n",
            "EPOCH 19:\n",
            "  batch 1000 loss: 0.5446605926677585\n",
            "  batch 2000 loss: 0.5523651569932699\n",
            "  batch 3000 loss: 0.5495051937699318\n",
            "  batch 4000 loss: 0.56497269923985\n",
            "  batch 5000 loss: 0.5598084552139044\n",
            "LOSS train 0.5598084552139044 valid 0.7758026123046875\n",
            "EPOCH 20:\n",
            "  batch 1000 loss: 0.5411583912447095\n",
            "  batch 2000 loss: 0.5488978139907121\n",
            "  batch 3000 loss: 0.5458565545082092\n",
            "  batch 4000 loss: 0.5614257622212172\n",
            "  batch 5000 loss: 0.556381633348763\n",
            "LOSS train 0.556381633348763 valid 0.7752532958984375\n",
            "EPOCH 21:\n",
            "  batch 1000 loss: 0.5378694636076689\n",
            "  batch 2000 loss: 0.5455074174702168\n",
            "  batch 3000 loss: 0.5422881399393081\n",
            "  batch 4000 loss: 0.5580705615878105\n",
            "  batch 5000 loss: 0.5531708764508366\n",
            "LOSS train 0.5531708764508366 valid 0.7759117484092712\n",
            "EPOCH 22:\n",
            "  batch 1000 loss: 0.534796625174582\n",
            "  batch 2000 loss: 0.5422452085912227\n",
            "  batch 3000 loss: 0.5388302142173051\n",
            "  batch 4000 loss: 0.5549505020529032\n",
            "  batch 5000 loss: 0.5500934832394123\n",
            "LOSS train 0.5500934832394123 valid 0.7754051685333252\n",
            "EPOCH 23:\n",
            "  batch 1000 loss: 0.5316009309291839\n",
            "  batch 2000 loss: 0.5390931952446699\n",
            "  batch 3000 loss: 0.5356105242222547\n",
            "  batch 4000 loss: 0.551911711409688\n",
            "  batch 5000 loss: 0.547082728408277\n",
            "LOSS train 0.547082728408277 valid 0.7758165597915649\n",
            "EPOCH 24:\n",
            "  batch 1000 loss: 0.5287379968389869\n",
            "  batch 2000 loss: 0.536165279135108\n",
            "  batch 3000 loss: 0.5325166170448065\n",
            "  batch 4000 loss: 0.5490240329653024\n",
            "  batch 5000 loss: 0.5442494490668177\n",
            "LOSS train 0.5442494490668177 valid 0.7759034633636475\n",
            "EPOCH 25:\n",
            "  batch 1000 loss: 0.525920783855021\n",
            "  batch 2000 loss: 0.5333226497769356\n",
            "  batch 3000 loss: 0.5296500570476055\n",
            "  batch 4000 loss: 0.5462123204916716\n",
            "  batch 5000 loss: 0.5415125785022974\n",
            "LOSS train 0.5415125785022974 valid 0.7756571769714355\n",
            "EPOCH 26:\n",
            "  batch 1000 loss: 0.5231782675758004\n",
            "  batch 2000 loss: 0.5305404669716954\n",
            "  batch 3000 loss: 0.526898362994194\n",
            "  batch 4000 loss: 0.5435212935432792\n",
            "  batch 5000 loss: 0.5387420098409057\n",
            "LOSS train 0.5387420098409057 valid 0.7762449979782104\n",
            "EPOCH 27:\n",
            "  batch 1000 loss: 0.5204818915203213\n",
            "  batch 2000 loss: 0.5278399773165584\n",
            "  batch 3000 loss: 0.5242494284808635\n",
            "  batch 4000 loss: 0.5408119408860803\n",
            "  batch 5000 loss: 0.5361978508159518\n",
            "LOSS train 0.5361978508159518 valid 0.7769833207130432\n",
            "EPOCH 28:\n",
            "  batch 1000 loss: 0.5180212958753109\n",
            "  batch 2000 loss: 0.5253710038810968\n",
            "  batch 3000 loss: 0.5217472036480904\n",
            "  batch 4000 loss: 0.5383674954697489\n",
            "  batch 5000 loss: 0.5336536424681544\n",
            "LOSS train 0.5336536424681544 valid 0.776741087436676\n",
            "EPOCH 29:\n",
            "  batch 1000 loss: 0.5156202450543642\n",
            "  batch 2000 loss: 0.5229450904875994\n",
            "  batch 3000 loss: 0.5193276927545667\n",
            "  batch 4000 loss: 0.535842299155891\n",
            "  batch 5000 loss: 0.5312124375402928\n",
            "LOSS train 0.5312124375402928 valid 0.7774835824966431\n",
            "EPOCH 30:\n",
            "  batch 1000 loss: 0.5131533774212003\n",
            "  batch 2000 loss: 0.5206341296210885\n",
            "  batch 3000 loss: 0.5169046574980021\n",
            "  batch 4000 loss: 0.5334424829632044\n",
            "  batch 5000 loss: 0.5289045697450638\n",
            "LOSS train 0.5289045697450638 valid 0.7780964970588684\n"
          ]
        }
      ]
    },
    {
      "cell_type": "code",
      "source": [
        "# Print intra-learning losses\n",
        "plt.figure(figsize=(10,6), tight_layout=True)\n",
        "plt.plot(np.arange(EPOCHS),train_loss, linewidth=3,color=\"red\")\n",
        "plt.plot(np.arange(EPOCHS),val_loss, linewidth=3,color=\"blue\")\n",
        "\n",
        "plt.xlabel('Epoch',fontsize=14)\n",
        "plt.ylabel('Loss(Epoch)',fontsize=14)\n",
        "plt.title(('Training/validation loss during training.'),fontsize=19)\n",
        "plt.legend(labels=['Training loss',\"Validation loss\"],fontsize=14)\n",
        "plt.grid(axis='x', color='0.95')\n",
        "plt.grid(axis='y', color='0.95')\n",
        "plt.show()"
      ],
      "metadata": {
        "id": "aclqXmFb-8uc",
        "colab": {
          "base_uri": "https://localhost:8080/",
          "height": 441
        },
        "outputId": "58de633c-d0eb-4d22-88c2-8c205c6d9918"
      },
      "execution_count": null,
      "outputs": [
        {
          "output_type": "display_data",
          "data": {
            "text/plain": [
              "<Figure size 720x432 with 1 Axes>"
            ],
            "image/png": "[encoded data removed]"
          },
          "metadata": {
            "needs_background": "light"
          }
        }
      ]
    },
    {
      "cell_type": "code",
      "source": [
        "#Reload the best model\n",
        "model.load_state_dict(torch.load(\"best_val_model\"))"
      ],
      "metadata": {
        "id": "U4JQGEIF7yjK",
        "colab": {
          "base_uri": "https://localhost:8080/"
        },
        "outputId": "bc0617c4-31a6-477e-c3a7-f8f5d315b4b9"
      },
      "execution_count": null,
      "outputs": [
        {
          "output_type": "execute_result",
          "data": {
            "text/plain": [
              "<All keys matched successfully>"
            ]
          },
          "metadata": {},
          "execution_count": 114
        }
      ]
    },
    {
      "cell_type": "code",
      "source": [
        "# Perform the predictions over the test set\n",
        "with open('test.tsv', 'w') as tsvfile:\n",
        "    writer = csv.writer(tsvfile, delimiter='\\t')\n",
        "    for i, test_data in enumerate(test_dataloader):\n",
        "      # Every test_data batch contains features+id+fake_label\n",
        "      test_features,test_fake_label,test_id= test_data\n",
        "      # Compute model's outputs\n",
        "      test_outputs = model(test_features)\n",
        "      writer.writerow([test_id.item(), labels[torch.argmax(test_outputs).item()]])"
      ],
      "metadata": {
        "id": "9UVU5uyA9pYj"
      },
      "execution_count": null,
      "outputs": []
    }
  ],
  "metadata": {
    "colab": {
      "collapsed_sections": [],
      "name": "Ex1_bonus_1635956.ipynb",
      "provenance": []
    },
    "kernelspec": {
      "display_name": "Python 3",
      "name": "python3"
    },
    "language_info": {
      "name": "python"
    }
  },
  "nbformat": 4,
  "nbformat_minor": 0
}